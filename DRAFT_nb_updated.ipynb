{
 "cells": [
  {
   "cell_type": "code",
   "execution_count": 1,
   "metadata": {},
   "outputs": [],
   "source": [
    "import requests\n",
    "import pandas as pd\n",
    "import time\n",
    "import json\n",
    "import zipfile\n",
    "import os\n",
    "import re\n",
    "import ast\n",
    "\n",
    "\n",
    "import warnings\n",
    "warnings.filterwarnings('ignore')\n"
   ]
  },
  {
   "cell_type": "markdown",
   "metadata": {},
   "source": [
    "### TMDB API Pull with Anime Keyword"
   ]
  },
  {
   "cell_type": "code",
   "execution_count": 89,
   "metadata": {},
   "outputs": [
    {
     "name": "stdout",
     "output_type": "stream",
     "text": [
      "No anime information found\n"
     ]
    }
   ],
   "source": [
    "def get_anime_info(api_key, keyword_id, genre_id, start_page=1, end_page=5000):\n",
    "    all_anime = []\n",
    "    for page in range(start_page, end_page + 1):\n",
    "        url = \"https://api.themoviedb.org/3/discover/tv\"\n",
    "        params = {\n",
    "            'api_key': api_key,\n",
    "            'with_genres': genre_id,\n",
    "            'with_keywords': keyword_id,\n",
    "            'language': 'en-US',\n",
    "            'sort_by': 'popularity.desc',\n",
    "            'page': page\n",
    "        }\n",
    "        response = requests.get(url, params=params)\n",
    "        if response.status_code == 200:\n",
    "            all_anime.extend(response.json().get('results', []))\n",
    "            if page % 50 == 0:\n",
    "                pd.DataFrame(all_anime).to_csv(f'anime_data_{page}.csv')\n",
    "                all_anime = []\n",
    "        else:\n",
    "            break\n",
    "        time.sleep(0.5)\n",
    "    return all_anime\n",
    "\n",
    "api_key = '2c818416a26da0b84f6a14364b6aa0eb'\n",
    "\n",
    "# Get the keyword ID for 'anime'\n",
    "anime_keyword_id = get_keyword_id(api_key, 'anime')\n",
    "\n",
    "# Animation genre ID (also used for anime)\n",
    "genre_id = 16\n",
    "\n",
    "if anime_keyword_id:\n",
    "    anime_info = get_anime_info(api_key, anime_keyword_id, genre_id, start_page=1, end_page=5000)\n",
    "    if anime_info:\n",
    "        df_anime = pd.DataFrame(anime_info)\n",
    "        df_anime.to_csv('final_anime_data.csv')\n",
    "        print(\"Data fetching complete.\")\n",
    "    else:\n",
    "        print(\"No anime information found\")\n",
    "else:\n",
    "    print(\"Anime keyword ID not found\")\n"
   ]
  },
  {
   "cell_type": "code",
   "execution_count": 5,
   "metadata": {},
   "outputs": [
    {
     "name": "stdout",
     "output_type": "stream",
     "text": [
      "<class 'pandas.core.frame.DataFrame'>\n",
      "RangeIndex: 271 entries, 0 to 270\n",
      "Data columns (total 14 columns):\n",
      " #   Column             Non-Null Count  Dtype  \n",
      "---  ------             --------------  -----  \n",
      " 0   Unnamed: 0         271 non-null    int64  \n",
      " 1   backdrop_path      151 non-null    object \n",
      " 2   genre_ids          271 non-null    object \n",
      " 3   id                 271 non-null    int64  \n",
      " 4   name               271 non-null    object \n",
      " 5   origin_country     271 non-null    object \n",
      " 6   original_language  271 non-null    object \n",
      " 7   original_name      271 non-null    object \n",
      " 8   overview           220 non-null    object \n",
      " 9   popularity         271 non-null    float64\n",
      " 10  poster_path        254 non-null    object \n",
      " 11  vote_average       271 non-null    float64\n",
      " 12  vote_count         271 non-null    int64  \n",
      " 13  first_air_date     179 non-null    object \n",
      "dtypes: float64(2), int64(3), object(9)\n",
      "memory usage: 29.8+ KB\n"
     ]
    }
   ],
   "source": [
    "df_anime = pd.read_csv('zipped_data/anime_data_tmdb.csv')\n",
    "df_anime.info()"
   ]
  },
  {
   "cell_type": "code",
   "execution_count": 6,
   "metadata": {},
   "outputs": [
    {
     "name": "stdout",
     "output_type": "stream",
     "text": [
      "<class 'pandas.core.frame.DataFrame'>\n",
      "RangeIndex: 1000 entries, 0 to 999\n",
      "Data columns (total 14 columns):\n",
      " #   Column             Non-Null Count  Dtype  \n",
      "---  ------             --------------  -----  \n",
      " 0   Unnamed: 0         1000 non-null   int64  \n",
      " 1   backdrop_path      983 non-null    object \n",
      " 2   first_air_date     999 non-null    object \n",
      " 3   genre_ids          1000 non-null   object \n",
      " 4   id                 1000 non-null   int64  \n",
      " 5   name               1000 non-null   object \n",
      " 6   origin_country     1000 non-null   object \n",
      " 7   original_language  1000 non-null   object \n",
      " 8   original_name      1000 non-null   object \n",
      " 9   overview           981 non-null    object \n",
      " 10  popularity         1000 non-null   float64\n",
      " 11  poster_path        1000 non-null   object \n",
      " 12  vote_average       1000 non-null   float64\n",
      " 13  vote_count         1000 non-null   int64  \n",
      "dtypes: float64(2), int64(3), object(9)\n",
      "memory usage: 109.5+ KB\n"
     ]
    }
   ],
   "source": [
    "df_anime_1000 = pd.read_csv('zipped_data/anime_data_100.csv')\n",
    "df_anime_1000.info()"
   ]
  },
  {
   "cell_type": "code",
   "execution_count": 7,
   "metadata": {},
   "outputs": [
    {
     "name": "stdout",
     "output_type": "stream",
     "text": [
      "<class 'pandas.core.frame.DataFrame'>\n",
      "RangeIndex: 1000 entries, 0 to 999\n",
      "Data columns (total 14 columns):\n",
      " #   Column             Non-Null Count  Dtype  \n",
      "---  ------             --------------  -----  \n",
      " 0   Unnamed: 0         1000 non-null   int64  \n",
      " 1   backdrop_path      905 non-null    object \n",
      " 2   first_air_date     969 non-null    object \n",
      " 3   genre_ids          1000 non-null   object \n",
      " 4   id                 1000 non-null   int64  \n",
      " 5   name               1000 non-null   object \n",
      " 6   origin_country     1000 non-null   object \n",
      " 7   original_language  1000 non-null   object \n",
      " 8   original_name      1000 non-null   object \n",
      " 9   overview           921 non-null    object \n",
      " 10  popularity         1000 non-null   float64\n",
      " 11  poster_path        997 non-null    object \n",
      " 12  vote_average       1000 non-null   float64\n",
      " 13  vote_count         1000 non-null   int64  \n",
      "dtypes: float64(2), int64(3), object(9)\n",
      "memory usage: 109.5+ KB\n"
     ]
    }
   ],
   "source": [
    "df_anime_1500 = pd.read_csv('zipped_data/anime_data_150.csv')\n",
    "df_anime_1500.info()"
   ]
  },
  {
   "cell_type": "markdown",
   "metadata": {},
   "source": [
    "### Combining TMDB anime datasets"
   ]
  },
  {
   "cell_type": "code",
   "execution_count": 13,
   "metadata": {},
   "outputs": [],
   "source": [
    "csv_file_paths = ['zipped_data/anime_data_50.csv', 'zipped_data/anime_data_100.csv', 'zipped_data/anime_data_150.csv', 'zipped_data/anime_data_250.csv']\n",
    "\n",
    "# Read each csv file into a dataframe\n",
    "dataframes = [pd.read_csv(file_path) for file_path in csv_file_paths]\n"
   ]
  },
  {
   "cell_type": "code",
   "execution_count": 14,
   "metadata": {},
   "outputs": [],
   "source": [
    "combined_anime_tmdb = pd.concat(dataframes, ignore_index=True)"
   ]
  },
  {
   "cell_type": "code",
   "execution_count": 15,
   "metadata": {},
   "outputs": [],
   "source": [
    "# Convert list to string\n",
    "combined_anime_tmdb['genre_ids'] = combined_anime_tmdb['genre_ids'].apply(lambda x: ','.join(map(str, x)) if isinstance(x, list) else x)\n",
    "\n",
    "# Drop irrelevant columns\n",
    "combined_anime_tmdb = combined_anime_tmdb.drop(columns=['origin_country', 'backdrop_path', 'poster_path', 'Unnamed: 0'])\n",
    "\n",
    "# Remove duplicates\n",
    "combined_anime_tmdb = combined_anime_tmdb.drop_duplicates()"
   ]
  },
  {
   "cell_type": "code",
   "execution_count": 16,
   "metadata": {},
   "outputs": [
    {
     "name": "stdout",
     "output_type": "stream",
     "text": [
      "<class 'pandas.core.frame.DataFrame'>\n",
      "Int64Index: 3271 entries, 0 to 3270\n",
      "Data columns (total 10 columns):\n",
      " #   Column             Non-Null Count  Dtype  \n",
      "---  ------             --------------  -----  \n",
      " 0   first_air_date     3146 non-null   object \n",
      " 1   genre_ids          3271 non-null   object \n",
      " 2   id                 3271 non-null   int64  \n",
      " 3   name               3271 non-null   object \n",
      " 4   original_language  3271 non-null   object \n",
      " 5   original_name      3271 non-null   object \n",
      " 6   overview           3120 non-null   object \n",
      " 7   popularity         3271 non-null   float64\n",
      " 8   vote_average       3271 non-null   float64\n",
      " 9   vote_count         3271 non-null   int64  \n",
      "dtypes: float64(2), int64(2), object(6)\n",
      "memory usage: 281.1+ KB\n"
     ]
    }
   ],
   "source": [
    "combined_anime_tmdb.info()"
   ]
  },
  {
   "cell_type": "code",
   "execution_count": 17,
   "metadata": {},
   "outputs": [],
   "source": [
    "# Save to csv file\n",
    "combined_anime_tmdb.to_csv('zipped_data/anime_tmbd_master.csv', index=False)"
   ]
  },
  {
   "cell_type": "markdown",
   "metadata": {},
   "source": [
    "### Adding data from MyAnimeList\n",
    "\n",
    "- animes.csv\n",
    "- profiles.csv\n",
    "- reviews.csv"
   ]
  },
  {
   "cell_type": "code",
   "execution_count": 3,
   "metadata": {},
   "outputs": [],
   "source": [
    "zip_file_path = 'zipped_data/Archive.zip'\n",
    "\n",
    "extract_path = 'zipped_data/extracted_csv_files'\n",
    "\n",
    "if not os.path.exists(extract_path):\n",
    "    os.makedirs(extract_path)\n",
    "\n",
    "# Extract csv files\n",
    "with zipfile.ZipFile(zip_file_path, 'r') as zip_ref:\n",
    "    # Extract all csv files\n",
    "    for file_name in zip_ref.namelist():\n",
    "        if file_name.endswith('.csv'):\n",
    "            zip_ref.extract(file_name, path=extract_path)\n"
   ]
  },
  {
   "cell_type": "code",
   "execution_count": 2,
   "metadata": {},
   "outputs": [
    {
     "name": "stdout",
     "output_type": "stream",
     "text": [
      "<class 'pandas.core.frame.DataFrame'>\n",
      "RangeIndex: 19311 entries, 0 to 19310\n",
      "Data columns (total 12 columns):\n",
      " #   Column      Non-Null Count  Dtype  \n",
      "---  ------      --------------  -----  \n",
      " 0   uid         19311 non-null  int64  \n",
      " 1   title       19311 non-null  object \n",
      " 2   synopsis    18336 non-null  object \n",
      " 3   genre       19311 non-null  object \n",
      " 4   aired       19311 non-null  object \n",
      " 5   episodes    18605 non-null  float64\n",
      " 6   members     19311 non-null  int64  \n",
      " 7   popularity  19311 non-null  int64  \n",
      " 8   ranked      16099 non-null  float64\n",
      " 9   score       18732 non-null  float64\n",
      " 10  img_url     19131 non-null  object \n",
      " 11  link        19311 non-null  object \n",
      "dtypes: float64(3), int64(3), object(6)\n",
      "memory usage: 1.8+ MB\n"
     ]
    }
   ],
   "source": [
    "animes_df = pd.read_csv('zipped_data/extracted_csv_files/animes.csv')\n",
    "animes_df.info()"
   ]
  },
  {
   "cell_type": "code",
   "execution_count": 3,
   "metadata": {},
   "outputs": [
    {
     "name": "stdout",
     "output_type": "stream",
     "text": [
      "<class 'pandas.core.frame.DataFrame'>\n",
      "RangeIndex: 81727 entries, 0 to 81726\n",
      "Data columns (total 5 columns):\n",
      " #   Column           Non-Null Count  Dtype \n",
      "---  ------           --------------  ----- \n",
      " 0   profile          81727 non-null  object\n",
      " 1   gender           53856 non-null  object\n",
      " 2   birthday         46807 non-null  object\n",
      " 3   favorites_anime  81727 non-null  object\n",
      " 4   link             81727 non-null  object\n",
      "dtypes: object(5)\n",
      "memory usage: 3.1+ MB\n"
     ]
    }
   ],
   "source": [
    "profiles_df = pd.read_csv('zipped_data/extracted_csv_files/profiles.csv')\n",
    "profiles_df.info()"
   ]
  },
  {
   "cell_type": "code",
   "execution_count": 4,
   "metadata": {},
   "outputs": [
    {
     "name": "stdout",
     "output_type": "stream",
     "text": [
      "<class 'pandas.core.frame.DataFrame'>\n",
      "RangeIndex: 192136 entries, 0 to 192135\n",
      "Data columns (total 10 columns):\n",
      " #   Column      Non-Null Count   Dtype \n",
      "---  ------      --------------   ----- \n",
      " 0   uid         192134 non-null  object\n",
      " 1   profile     192122 non-null  object\n",
      " 2   anime_uid   192121 non-null  object\n",
      " 3   score       192115 non-null  object\n",
      " 4   scores      192113 non-null  object\n",
      " 5   link        192028 non-null  object\n",
      " 6   Unnamed: 6  3 non-null       object\n",
      " 7   Unnamed: 7  2 non-null       object\n",
      " 8   Unnamed: 8  1 non-null       object\n",
      " 9   Unnamed: 9  1 non-null       object\n",
      "dtypes: object(10)\n",
      "memory usage: 14.7+ MB\n"
     ]
    }
   ],
   "source": [
    "reviews_df = pd.read_csv('zipped_data/extracted_csv_files/reviews.csv')\n",
    "reviews_df.info()"
   ]
  },
  {
   "cell_type": "markdown",
   "metadata": {},
   "source": [
    "### Splitting the dictionary key-value pairs from the 'scores' column into separate columns for readability"
   ]
  },
  {
   "cell_type": "code",
   "execution_count": 5,
   "metadata": {},
   "outputs": [
    {
     "data": {
      "text/html": [
       "<div>\n",
       "<style scoped>\n",
       "    .dataframe tbody tr th:only-of-type {\n",
       "        vertical-align: middle;\n",
       "    }\n",
       "\n",
       "    .dataframe tbody tr th {\n",
       "        vertical-align: top;\n",
       "    }\n",
       "\n",
       "    .dataframe thead th {\n",
       "        text-align: right;\n",
       "    }\n",
       "</style>\n",
       "<table border=\"1\" class=\"dataframe\">\n",
       "  <thead>\n",
       "    <tr style=\"text-align: right;\">\n",
       "      <th></th>\n",
       "      <th>uid</th>\n",
       "      <th>profile</th>\n",
       "      <th>anime_uid</th>\n",
       "      <th>score</th>\n",
       "      <th>scores</th>\n",
       "      <th>link</th>\n",
       "      <th>Unnamed: 6</th>\n",
       "      <th>Unnamed: 7</th>\n",
       "      <th>Unnamed: 8</th>\n",
       "      <th>Unnamed: 9</th>\n",
       "      <th>Overall</th>\n",
       "      <th>Story</th>\n",
       "      <th>Animation</th>\n",
       "      <th>Sound</th>\n",
       "      <th>Character</th>\n",
       "      <th>Enjoyment</th>\n",
       "    </tr>\n",
       "  </thead>\n",
       "  <tbody>\n",
       "    <tr>\n",
       "      <th>0</th>\n",
       "      <td>255938</td>\n",
       "      <td>DesolatePsyche</td>\n",
       "      <td>34096</td>\n",
       "      <td>8</td>\n",
       "      <td>{'Overall': '8', 'Story': '8', 'Animation': '8...</td>\n",
       "      <td>https://myanimelist.net/reviews.php?id=255938</td>\n",
       "      <td>NaN</td>\n",
       "      <td>NaN</td>\n",
       "      <td>NaN</td>\n",
       "      <td>NaN</td>\n",
       "      <td>8</td>\n",
       "      <td>8</td>\n",
       "      <td>8</td>\n",
       "      <td>10</td>\n",
       "      <td>9</td>\n",
       "      <td>8</td>\n",
       "    </tr>\n",
       "    <tr>\n",
       "      <th>1</th>\n",
       "      <td>259117</td>\n",
       "      <td>baekbeans</td>\n",
       "      <td>34599</td>\n",
       "      <td>10</td>\n",
       "      <td>{'Overall': '10', 'Story': '10', 'Animation': ...</td>\n",
       "      <td>https://myanimelist.net/reviews.php?id=259117</td>\n",
       "      <td>NaN</td>\n",
       "      <td>NaN</td>\n",
       "      <td>NaN</td>\n",
       "      <td>NaN</td>\n",
       "      <td>10</td>\n",
       "      <td>10</td>\n",
       "      <td>10</td>\n",
       "      <td>10</td>\n",
       "      <td>10</td>\n",
       "      <td>10</td>\n",
       "    </tr>\n",
       "    <tr>\n",
       "      <th>2</th>\n",
       "      <td>253664</td>\n",
       "      <td>skrn</td>\n",
       "      <td>28891</td>\n",
       "      <td>7</td>\n",
       "      <td>{'Overall': '7', 'Story': '7', 'Animation': '9...</td>\n",
       "      <td>https://myanimelist.net/reviews.php?id=253664</td>\n",
       "      <td>NaN</td>\n",
       "      <td>NaN</td>\n",
       "      <td>NaN</td>\n",
       "      <td>NaN</td>\n",
       "      <td>7</td>\n",
       "      <td>7</td>\n",
       "      <td>9</td>\n",
       "      <td>8</td>\n",
       "      <td>8</td>\n",
       "      <td>8</td>\n",
       "    </tr>\n",
       "    <tr>\n",
       "      <th>3</th>\n",
       "      <td>8254</td>\n",
       "      <td>edgewalker00</td>\n",
       "      <td>2904</td>\n",
       "      <td>9</td>\n",
       "      <td>{'Overall': '9', 'Story': '9', 'Animation': '9...</td>\n",
       "      <td>https://myanimelist.net/reviews.php?id=8254</td>\n",
       "      <td>NaN</td>\n",
       "      <td>NaN</td>\n",
       "      <td>NaN</td>\n",
       "      <td>NaN</td>\n",
       "      <td>9</td>\n",
       "      <td>9</td>\n",
       "      <td>9</td>\n",
       "      <td>10</td>\n",
       "      <td>10</td>\n",
       "      <td>9</td>\n",
       "    </tr>\n",
       "    <tr>\n",
       "      <th>4</th>\n",
       "      <td>291149</td>\n",
       "      <td>aManOfCulture99</td>\n",
       "      <td>4181</td>\n",
       "      <td>10</td>\n",
       "      <td>{'Overall': '10', 'Story': '10', 'Animation': ...</td>\n",
       "      <td>https://myanimelist.net/reviews.php?id=291149</td>\n",
       "      <td>NaN</td>\n",
       "      <td>NaN</td>\n",
       "      <td>NaN</td>\n",
       "      <td>NaN</td>\n",
       "      <td>10</td>\n",
       "      <td>10</td>\n",
       "      <td>8</td>\n",
       "      <td>9</td>\n",
       "      <td>10</td>\n",
       "      <td>10</td>\n",
       "    </tr>\n",
       "  </tbody>\n",
       "</table>\n",
       "</div>"
      ],
      "text/plain": [
       "      uid          profile anime_uid score  \\\n",
       "0  255938   DesolatePsyche     34096     8   \n",
       "1  259117        baekbeans     34599    10   \n",
       "2  253664             skrn     28891     7   \n",
       "3    8254     edgewalker00      2904     9   \n",
       "4  291149  aManOfCulture99      4181    10   \n",
       "\n",
       "                                              scores  \\\n",
       "0  {'Overall': '8', 'Story': '8', 'Animation': '8...   \n",
       "1  {'Overall': '10', 'Story': '10', 'Animation': ...   \n",
       "2  {'Overall': '7', 'Story': '7', 'Animation': '9...   \n",
       "3  {'Overall': '9', 'Story': '9', 'Animation': '9...   \n",
       "4  {'Overall': '10', 'Story': '10', 'Animation': ...   \n",
       "\n",
       "                                            link Unnamed: 6 Unnamed: 7  \\\n",
       "0  https://myanimelist.net/reviews.php?id=255938        NaN        NaN   \n",
       "1  https://myanimelist.net/reviews.php?id=259117        NaN        NaN   \n",
       "2  https://myanimelist.net/reviews.php?id=253664        NaN        NaN   \n",
       "3    https://myanimelist.net/reviews.php?id=8254        NaN        NaN   \n",
       "4  https://myanimelist.net/reviews.php?id=291149        NaN        NaN   \n",
       "\n",
       "  Unnamed: 8 Unnamed: 9 Overall Story Animation Sound Character Enjoyment  \n",
       "0        NaN        NaN       8     8         8    10         9         8  \n",
       "1        NaN        NaN      10    10        10    10        10        10  \n",
       "2        NaN        NaN       7     7         9     8         8         8  \n",
       "3        NaN        NaN       9     9         9    10        10         9  \n",
       "4        NaN        NaN      10    10         8     9        10        10  "
      ]
     },
     "execution_count": 5,
     "metadata": {},
     "output_type": "execute_result"
    }
   ],
   "source": [
    "# Function to convert a string to a dictionary, return None if conversion fails\n",
    "def safe_literal_eval(s):\n",
    "    try:\n",
    "        return ast.literal_eval(s)\n",
    "    except:\n",
    "        return None\n",
    "\n",
    "# Apply function to the 'scores' column\n",
    "reviews_df['scores'] = reviews_df['scores'].apply(lambda x: safe_literal_eval(x) if pd.notnull(x) else None)\n",
    "\n",
    "# Drop rows where 'scores' is None\n",
    "reviews_df = reviews_df.dropna(subset=['scores'])\n",
    "\n",
    "# Split the 'scores' column into separate columns\n",
    "scores_df = reviews_df['scores'].apply(pd.Series)\n",
    "\n",
    "# Merge new columns back in\n",
    "combined_reviews = pd.concat([reviews_df, scores_df], axis=1)\n",
    "\n",
    "combined_reviews.head()\n"
   ]
  },
  {
   "cell_type": "code",
   "execution_count": 6,
   "metadata": {},
   "outputs": [
    {
     "data": {
      "text/plain": [
       "192107"
      ]
     },
     "execution_count": 6,
     "metadata": {},
     "output_type": "execute_result"
    }
   ],
   "source": [
    "# Drop irrelevant/duplicate columns\n",
    "columns_to_drop = ['link', 'score', 'Unnamed: 6', 'Unnamed: 7', 'Unnamed: 8', 'Unnamed: 9']\n",
    "combined_reviews = combined_reviews.drop(columns=columns_to_drop, errors='ignore')\n",
    "\n",
    "# Sanity check\n",
    "combined_reviews['Overall'].value_counts().sum()"
   ]
  },
  {
   "cell_type": "markdown",
   "metadata": {},
   "source": [
    "### Joining MyAnimeList data files"
   ]
  },
  {
   "cell_type": "code",
   "execution_count": 7,
   "metadata": {},
   "outputs": [
    {
     "name": "stdout",
     "output_type": "stream",
     "text": [
      "<class 'pandas.core.frame.DataFrame'>\n",
      "Int64Index: 588437 entries, 0 to 588436\n",
      "Data columns (total 26 columns):\n",
      " #   Column           Non-Null Count   Dtype  \n",
      "---  ------           --------------   -----  \n",
      " 0   uid_review       588437 non-null  object \n",
      " 1   profile          588437 non-null  object \n",
      " 2   anime_uid        588437 non-null  object \n",
      " 3   scores           588437 non-null  object \n",
      " 4   Overall          588437 non-null  object \n",
      " 5   Story            588437 non-null  object \n",
      " 6   Animation        588437 non-null  object \n",
      " 7   Sound            588437 non-null  object \n",
      " 8   Character        588437 non-null  object \n",
      " 9   Enjoyment        588437 non-null  object \n",
      " 10  uid_anime        588437 non-null  int64  \n",
      " 11  title            588437 non-null  object \n",
      " 12  synopsis         586629 non-null  object \n",
      " 13  genre            588437 non-null  object \n",
      " 14  aired            588437 non-null  object \n",
      " 15  episodes         583455 non-null  float64\n",
      " 16  members          588437 non-null  int64  \n",
      " 17  popularity       588437 non-null  int64  \n",
      " 18  ranked           556739 non-null  float64\n",
      " 19  score            588437 non-null  float64\n",
      " 20  img_url          588329 non-null  object \n",
      " 21  link_x           588437 non-null  object \n",
      " 22  gender           432943 non-null  object \n",
      " 23  birthday         376742 non-null  object \n",
      " 24  favorites_anime  588437 non-null  object \n",
      " 25  link_y           588437 non-null  object \n",
      "dtypes: float64(3), int64(3), object(20)\n",
      "memory usage: 121.2+ MB\n"
     ]
    }
   ],
   "source": [
    "# Merge reviews dataset with animes dataset on anime_uid\n",
    "merged_reviews_animes = pd.merge(combined_reviews, animes_df, left_on='anime_uid', right_on='uid', suffixes=('_review', '_anime'))\n",
    "\n",
    "# Merge combined dataset with the profiles dataset on profile\n",
    "myanimelist_combined = pd.merge(merged_reviews_animes, profiles_df, on='profile')\n",
    "\n",
    "myanimelist_combined.info()\n"
   ]
  },
  {
   "cell_type": "markdown",
   "metadata": {},
   "source": [
    "### Handling missing values"
   ]
  },
  {
   "cell_type": "code",
   "execution_count": 8,
   "metadata": {},
   "outputs": [
    {
     "name": "stdout",
     "output_type": "stream",
     "text": [
      "<class 'pandas.core.frame.DataFrame'>\n",
      "Int64Index: 349877 entries, 0 to 588433\n",
      "Data columns (total 26 columns):\n",
      " #   Column           Non-Null Count   Dtype  \n",
      "---  ------           --------------   -----  \n",
      " 0   uid_review       349877 non-null  object \n",
      " 1   profile          349877 non-null  object \n",
      " 2   anime_uid        349877 non-null  object \n",
      " 3   scores           349877 non-null  object \n",
      " 4   Overall          349877 non-null  object \n",
      " 5   Story            349877 non-null  object \n",
      " 6   Animation        349877 non-null  object \n",
      " 7   Sound            349877 non-null  object \n",
      " 8   Character        349877 non-null  object \n",
      " 9   Enjoyment        349877 non-null  object \n",
      " 10  uid_anime        349877 non-null  int64  \n",
      " 11  title            349877 non-null  object \n",
      " 12  synopsis         349036 non-null  object \n",
      " 13  genre            349877 non-null  object \n",
      " 14  aired            349877 non-null  object \n",
      " 15  episodes         346915 non-null  float64\n",
      " 16  members          349877 non-null  int64  \n",
      " 17  popularity       349877 non-null  int64  \n",
      " 18  ranked           333064 non-null  float64\n",
      " 19  score            349877 non-null  float64\n",
      " 20  img_url          349809 non-null  object \n",
      " 21  link_x           349877 non-null  object \n",
      " 22  gender           349877 non-null  object \n",
      " 23  birthday         349877 non-null  object \n",
      " 24  favorites_anime  349877 non-null  object \n",
      " 25  link_y           349877 non-null  object \n",
      "dtypes: float64(3), int64(3), object(20)\n",
      "memory usage: 72.1+ MB\n"
     ]
    }
   ],
   "source": [
    "# Drop null values from 'birthday' and 'gender' columns\n",
    "myanimelist_combined = myanimelist_combined.dropna(subset=['birthday', 'gender'])\n",
    "myanimelist_combined.info()"
   ]
  },
  {
   "cell_type": "code",
   "execution_count": 14,
   "metadata": {},
   "outputs": [],
   "source": [
    "# Save to csv\n",
    "myanimelist_combined.to_csv('zipped_data/myanimelist_data.csv', index=False)"
   ]
  },
  {
   "cell_type": "markdown",
   "metadata": {},
   "source": [
    "### Checking matching values on additional IMDb dataset"
   ]
  },
  {
   "cell_type": "code",
   "execution_count": 18,
   "metadata": {},
   "outputs": [],
   "source": [
    "imdb_anime_df = pd.read_csv('zipped_data/imdb_anime.csv')"
   ]
  },
  {
   "cell_type": "code",
   "execution_count": 19,
   "metadata": {},
   "outputs": [
    {
     "name": "stdout",
     "output_type": "stream",
     "text": [
      "Are there any matching titles? True\n",
      "Matching titles: 0                              One Piece\n",
      "8                                 Bleach\n",
      "14                                Naruto\n",
      "16                          Vinland Saga\n",
      "20                       Hunter x Hunter\n",
      "                      ...               \n",
      "45669                     Mob Psycho 100\n",
      "45692                          RobiHachi\n",
      "45694                     Mob Psycho 100\n",
      "45702    Boruto: Naruto Next Generations\n",
      "45714                          One Piece\n",
      "Name: Title, Length: 7479, dtype: object\n"
     ]
    }
   ],
   "source": [
    "matches = imdb_anime_df['Title'].isin(myanimelist_combined['title'])\n",
    "exists = matches.any()\n",
    "\n",
    "print(f\"Are there any matching titles? {exists}\")\n",
    "if exists:\n",
    "    print(\"Matching titles:\", imdb_anime_df['Title'][matches])\n"
   ]
  },
  {
   "cell_type": "code",
   "execution_count": 20,
   "metadata": {},
   "outputs": [
    {
     "name": "stdout",
     "output_type": "stream",
     "text": [
      "Number of matching titles: 0\n"
     ]
    }
   ],
   "source": [
    "# Find matching titles\n",
    "matches = imdb_anime_df['Title'].isin(['title'])\n",
    "\n",
    "# Count the number of matching records\n",
    "num_matching_titles = matches.sum()\n",
    "\n",
    "print(f\"Number of matching titles: {num_matching_titles}\")"
   ]
  },
  {
   "cell_type": "markdown",
   "metadata": {},
   "source": [
    "### Identifying non-matching values between IMDb & MyAnimeList datasets"
   ]
  },
  {
   "cell_type": "code",
   "execution_count": 22,
   "metadata": {},
   "outputs": [
    {
     "name": "stdout",
     "output_type": "stream",
     "text": [
      "<class 'pandas.core.frame.DataFrame'>\n",
      "Int64Index: 38238 entries, 1 to 45716\n",
      "Data columns (total 13 columns):\n",
      " #   Column           Non-Null Count  Dtype \n",
      "---  ------           --------------  ----- \n",
      " 0   Title            38238 non-null  object\n",
      " 1   Genre            38238 non-null  object\n",
      " 2   User Rating      18878 non-null  object\n",
      " 3   Number of Votes  18878 non-null  object\n",
      " 4   Runtime          26701 non-null  object\n",
      " 5   Year             38113 non-null  object\n",
      " 6   Summary          17616 non-null  object\n",
      " 7   Stars            11046 non-null  object\n",
      " 8   Certificate      22411 non-null  object\n",
      " 9   Metascore        314 non-null    object\n",
      " 10  Gross            18878 non-null  object\n",
      " 11  Episode          38238 non-null  object\n",
      " 12  Episode Title    28335 non-null  object\n",
      "dtypes: object(13)\n",
      "memory usage: 4.1+ MB\n"
     ]
    }
   ],
   "source": [
    "non_matches = imdb_anime_df[~imdb_anime_df['Title'].isin(myanimelist_combined['title'])]\n",
    "non_matches.info()"
   ]
  },
  {
   "cell_type": "markdown",
   "metadata": {},
   "source": [
    "### API Pull Request to Identify True Anime Records in Remaining IMDb dataset"
   ]
  },
  {
   "cell_type": "code",
   "execution_count": 48,
   "metadata": {},
   "outputs": [
    {
     "name": "stderr",
     "output_type": "stream",
     "text": [
      "<ipython-input-48-9e811b71688d>:19: SettingWithCopyWarning: \n",
      "A value is trying to be set on a copy of a slice from a DataFrame.\n",
      "Try using .loc[row_indexer,col_indexer] = value instead\n",
      "\n",
      "See the caveats in the documentation: https://pandas.pydata.org/pandas-docs/stable/user_guide/indexing.html#returning-a-view-versus-a-copy\n",
      "  non_matches['is_anime'] = non_matches['Title'].apply(lambda x: is_anime(x, api_key))\n"
     ]
    }
   ],
   "source": [
    "def is_anime(title, api_key):\n",
    "    url = 'https://api.myanimelist.net/v2/anime'\n",
    "    headers = {'Authorization': f'Bearer {api_key}'}\n",
    "    params = {'q': title, 'limit': 1}\n",
    "\n",
    "    try:\n",
    "        response = requests.get(url, headers=headers, params=params)\n",
    "        if response.status_code == 200:\n",
    "            return True\n",
    "        else:\n",
    "            return None\n",
    "    except Exception as e:\n",
    "        print(f\"Error occurred while fetching data for {title}: {e}\")\n",
    "        return None\n",
    "\n",
    "api_key = '8547440239b36521577596c71a7c7be4'\n",
    "\n",
    "# Iterate over each title in the DataFrame and check if it's an anime\n",
    "non_matches['is_anime'] = non_matches['Title'].apply(lambda x: is_anime(x, api_key))\n",
    "\n",
    "# Pause between requests to adhere to rate limits\n",
    "time.sleep(1)\n",
    "\n",
    "# Filtering to find titles identified as anime\n",
    "anime_titles_df = non_matches[non_matches['is_anime'] == True]\n"
   ]
  },
  {
   "cell_type": "code",
   "execution_count": 50,
   "metadata": {},
   "outputs": [
    {
     "name": "stdout",
     "output_type": "stream",
     "text": [
      "<class 'pandas.core.frame.DataFrame'>\n",
      "Int64Index: 0 entries\n",
      "Data columns (total 14 columns):\n",
      " #   Column           Non-Null Count  Dtype \n",
      "---  ------           --------------  ----- \n",
      " 0   Title            0 non-null      object\n",
      " 1   Genre            0 non-null      object\n",
      " 2   User Rating      0 non-null      object\n",
      " 3   Number of Votes  0 non-null      object\n",
      " 4   Runtime          0 non-null      object\n",
      " 5   Year             0 non-null      object\n",
      " 6   Summary          0 non-null      object\n",
      " 7   Stars            0 non-null      object\n",
      " 8   Certificate      0 non-null      object\n",
      " 9   Metascore        0 non-null      object\n",
      " 10  Gross            0 non-null      object\n",
      " 11  Episode          0 non-null      object\n",
      " 12  Episode Title    0 non-null      object\n",
      " 13  is_anime         0 non-null      object\n",
      "dtypes: object(14)\n",
      "memory usage: 0.0+ bytes\n"
     ]
    }
   ],
   "source": [
    "anime_titles_df.info()"
   ]
  },
  {
   "cell_type": "markdown",
   "metadata": {},
   "source": [
    "#### Unable to confirm the remaining 26k+ records in IMDb as Anime. Therefore, will continue with the combined MyAnimeList datasets for our master dataset."
   ]
  },
  {
   "cell_type": "markdown",
   "metadata": {},
   "source": [
    "### Creating Master Dataset"
   ]
  },
  {
   "cell_type": "code",
   "execution_count": 15,
   "metadata": {},
   "outputs": [],
   "source": [
    "# Save to csv\n",
    "myanimelist_combined.to_csv('zipped_data/master_anime_data.csv', index=False)"
   ]
  },
  {
   "cell_type": "markdown",
   "metadata": {},
   "source": [
    "## Data Preparation"
   ]
  },
  {
   "cell_type": "markdown",
   "metadata": {},
   "source": [
    "### Data Cleaning\n",
    "\n",
    "- Handle missing values\n",
    "- Ensure consistency in data formats (dates & categorical)\n",
    "- Remove duplicates"
   ]
  },
  {
   "cell_type": "markdown",
   "metadata": {},
   "source": [
    "### Data Integration\n",
    "\n",
    "- Combine anime data with reviews dataset meaningfully\n",
    "- Ensure user identifiers match across datasets"
   ]
  },
  {
   "cell_type": "markdown",
   "metadata": {},
   "source": [
    "### Data Transformation\n",
    "\n",
    "- Normalize numerical features like 'popularity', 'num_episodes', 'ratings', and 'scores'\n",
    "- Convert categorical data into a format suitable for modeling (one-hot encoding)"
   ]
  },
  {
   "cell_type": "markdown",
   "metadata": {},
   "source": [
    "## Feature Engineering"
   ]
  },
  {
   "cell_type": "markdown",
   "metadata": {},
   "source": [
    "### Text Data\n",
    "- Use NLP techniques to extract features from text data\n",
    "- Consider sentiment analysis for reviews and keyword extraction for synopsis"
   ]
  },
  {
   "cell_type": "markdown",
   "metadata": {},
   "source": [
    "### User Profiles\n",
    " - Derive features like preferred genres, average ratings given, and viewing patterns\n",
    " - Age calculation from birthday"
   ]
  },
  {
   "cell_type": "markdown",
   "metadata": {},
   "source": [
    "### Collaborative Features\n",
    "- Create user-item interaction matrices for collaborative filtering"
   ]
  },
  {
   "cell_type": "markdown",
   "metadata": {},
   "source": [
    "## Model Development"
   ]
  },
  {
   "cell_type": "markdown",
   "metadata": {},
   "source": [
    "### Content-Based Filtering\n",
    "- Use features from anime (genre, synopsis, etc.) to recommend similar items\n",
    "- Machine Learning models like TF-IDF with cosine similarity, or more advanced NLP models can be used"
   ]
  },
  {
   "cell_type": "markdown",
   "metadata": {},
   "source": [
    "### Collaborative Filtering\n",
    "- Implement models like Matrix Factorization (e.g. SVD), ALS, or deep learning-based approaches\n",
    "- Focus on user-user and item-item similarities"
   ]
  },
  {
   "cell_type": "markdown",
   "metadata": {},
   "source": [
    "### Hybrid Model\n",
    "- Combine content-based and collaborative filtering approaches\n",
    "- Experiment with different blending techniques like weighted averages, stacking, etc."
   ]
  },
  {
   "cell_type": "markdown",
   "metadata": {},
   "source": [
    "### Mood-Based & Demographic Playlists\n",
    "- Utilize sentiment analysis for mood-based recommendations\n",
    "- For demographics, use features like age and gender"
   ]
  },
  {
   "cell_type": "markdown",
   "metadata": {},
   "source": [
    "### Trend Analysis & Popularity\n",
    "- Analyze trends in anime watching, like seasonal trends, rising popularity, etc."
   ]
  },
  {
   "cell_type": "markdown",
   "metadata": {},
   "source": [
    "## Testing & Evaluation\n",
    "\n",
    "- Use metrics like RMSE, precision, recall for collaborative filtering\n",
    "- Evaluate relevance of recomendations for content-based filtering"
   ]
  },
  {
   "cell_type": "code",
   "execution_count": 9,
   "metadata": {},
   "outputs": [
    {
     "data": {
      "text/html": [
       "<div>\n",
       "<style scoped>\n",
       "    .dataframe tbody tr th:only-of-type {\n",
       "        vertical-align: middle;\n",
       "    }\n",
       "\n",
       "    .dataframe tbody tr th {\n",
       "        vertical-align: top;\n",
       "    }\n",
       "\n",
       "    .dataframe thead th {\n",
       "        text-align: right;\n",
       "    }\n",
       "</style>\n",
       "<table border=\"1\" class=\"dataframe\">\n",
       "  <thead>\n",
       "    <tr style=\"text-align: right;\">\n",
       "      <th></th>\n",
       "      <th>uid_review</th>\n",
       "      <th>profile</th>\n",
       "      <th>anime_uid</th>\n",
       "      <th>scores</th>\n",
       "      <th>Overall</th>\n",
       "      <th>Story</th>\n",
       "      <th>Animation</th>\n",
       "      <th>Sound</th>\n",
       "      <th>Character</th>\n",
       "      <th>Enjoyment</th>\n",
       "      <th>...</th>\n",
       "      <th>members</th>\n",
       "      <th>popularity</th>\n",
       "      <th>ranked</th>\n",
       "      <th>score</th>\n",
       "      <th>img_url</th>\n",
       "      <th>link_x</th>\n",
       "      <th>gender</th>\n",
       "      <th>birthday</th>\n",
       "      <th>favorites_anime</th>\n",
       "      <th>link_y</th>\n",
       "    </tr>\n",
       "  </thead>\n",
       "  <tbody>\n",
       "    <tr>\n",
       "      <th>539917</th>\n",
       "      <td>73375</td>\n",
       "      <td>EbonyAnime</td>\n",
       "      <td>4087</td>\n",
       "      <td>{'Overall': '10', 'Story': '10', 'Animation': ...</td>\n",
       "      <td>10</td>\n",
       "      <td>10</td>\n",
       "      <td>10</td>\n",
       "      <td>10</td>\n",
       "      <td>10</td>\n",
       "      <td>10</td>\n",
       "      <td>...</td>\n",
       "      <td>123301</td>\n",
       "      <td>912</td>\n",
       "      <td>772.0</td>\n",
       "      <td>7.87</td>\n",
       "      <td>https://cdn.myanimelist.net/images/anime/10/59...</td>\n",
       "      <td>https://myanimelist.net/anime/4087/Michiko_to_...</td>\n",
       "      <td>Female</td>\n",
       "      <td>Jun 28, 1991</td>\n",
       "      <td>['1033', '2167', '1535', '853', '325']</td>\n",
       "      <td>https://myanimelist.net/profile/EbonyAnime</td>\n",
       "    </tr>\n",
       "    <tr>\n",
       "      <th>350196</th>\n",
       "      <td>10165</td>\n",
       "      <td>noteDhero</td>\n",
       "      <td>1559</td>\n",
       "      <td>{'Overall': '4', 'Story': '5', 'Animation': '5...</td>\n",
       "      <td>4</td>\n",
       "      <td>5</td>\n",
       "      <td>5</td>\n",
       "      <td>4</td>\n",
       "      <td>4</td>\n",
       "      <td>4</td>\n",
       "      <td>...</td>\n",
       "      <td>204209</td>\n",
       "      <td>528</td>\n",
       "      <td>346.0</td>\n",
       "      <td>8.18</td>\n",
       "      <td>https://cdn.myanimelist.net/images/anime/9/755...</td>\n",
       "      <td>https://myanimelist.net/anime/1559/Shijou_Saik...</td>\n",
       "      <td>Male</td>\n",
       "      <td>Oct 14, 1986</td>\n",
       "      <td>['19', '820', '1698', '16', '1033']</td>\n",
       "      <td>https://myanimelist.net/profile/noteDhero</td>\n",
       "    </tr>\n",
       "    <tr>\n",
       "      <th>477548</th>\n",
       "      <td>113787</td>\n",
       "      <td>yaki_niku</td>\n",
       "      <td>10408</td>\n",
       "      <td>{'Overall': '9', 'Story': '0', 'Animation': '0...</td>\n",
       "      <td>9</td>\n",
       "      <td>0</td>\n",
       "      <td>0</td>\n",
       "      <td>0</td>\n",
       "      <td>0</td>\n",
       "      <td>0</td>\n",
       "      <td>...</td>\n",
       "      <td>415415</td>\n",
       "      <td>193</td>\n",
       "      <td>104.0</td>\n",
       "      <td>8.48</td>\n",
       "      <td>https://cdn.myanimelist.net/images/anime/8/382...</td>\n",
       "      <td>https://myanimelist.net/anime/10408/Hotarubi_n...</td>\n",
       "      <td>Male</td>\n",
       "      <td>1993</td>\n",
       "      <td>['7311', '164', '2966', '15039']</td>\n",
       "      <td>https://myanimelist.net/profile/yaki_niku</td>\n",
       "    </tr>\n",
       "    <tr>\n",
       "      <th>180083</th>\n",
       "      <td>90543</td>\n",
       "      <td>Hectotane</td>\n",
       "      <td>15315</td>\n",
       "      <td>{'Overall': '8', 'Story': '10', 'Animation': '...</td>\n",
       "      <td>8</td>\n",
       "      <td>10</td>\n",
       "      <td>7</td>\n",
       "      <td>7</td>\n",
       "      <td>8</td>\n",
       "      <td>8</td>\n",
       "      <td>...</td>\n",
       "      <td>385072</td>\n",
       "      <td>227</td>\n",
       "      <td>1184.0</td>\n",
       "      <td>7.69</td>\n",
       "      <td>https://cdn.myanimelist.net/images/anime/12/43...</td>\n",
       "      <td>https://myanimelist.net/anime/15315/Mondaiji-t...</td>\n",
       "      <td>Male</td>\n",
       "      <td>Dec 15, 1974</td>\n",
       "      <td>['2432', '2002', '1691', '16524', '12055', '39...</td>\n",
       "      <td>https://myanimelist.net/profile/Hectotane</td>\n",
       "    </tr>\n",
       "    <tr>\n",
       "      <th>182619</th>\n",
       "      <td>36759</td>\n",
       "      <td>NeverKnowsBest26</td>\n",
       "      <td>227</td>\n",
       "      <td>{'Overall': '9', 'Story': '8', 'Animation': '1...</td>\n",
       "      <td>9</td>\n",
       "      <td>8</td>\n",
       "      <td>10</td>\n",
       "      <td>10</td>\n",
       "      <td>8</td>\n",
       "      <td>9</td>\n",
       "      <td>...</td>\n",
       "      <td>498692</td>\n",
       "      <td>134</td>\n",
       "      <td>493.0</td>\n",
       "      <td>8.06</td>\n",
       "      <td>https://cdn.myanimelist.net/images/anime/7/773...</td>\n",
       "      <td>https://myanimelist.net/anime/227/FLCL</td>\n",
       "      <td>Male</td>\n",
       "      <td>Jan 15, 1990</td>\n",
       "      <td>['440', '7785', '1', '1827', '339', '387', '16...</td>\n",
       "      <td>https://myanimelist.net/profile/NeverKnowsBest26</td>\n",
       "    </tr>\n",
       "  </tbody>\n",
       "</table>\n",
       "<p>5 rows × 26 columns</p>\n",
       "</div>"
      ],
      "text/plain": [
       "       uid_review           profile anime_uid  \\\n",
       "539917      73375        EbonyAnime      4087   \n",
       "350196      10165         noteDhero      1559   \n",
       "477548     113787         yaki_niku     10408   \n",
       "180083      90543         Hectotane     15315   \n",
       "182619      36759  NeverKnowsBest26       227   \n",
       "\n",
       "                                                   scores Overall Story  \\\n",
       "539917  {'Overall': '10', 'Story': '10', 'Animation': ...      10    10   \n",
       "350196  {'Overall': '4', 'Story': '5', 'Animation': '5...       4     5   \n",
       "477548  {'Overall': '9', 'Story': '0', 'Animation': '0...       9     0   \n",
       "180083  {'Overall': '8', 'Story': '10', 'Animation': '...       8    10   \n",
       "182619  {'Overall': '9', 'Story': '8', 'Animation': '1...       9     8   \n",
       "\n",
       "       Animation Sound Character Enjoyment  ...  members popularity  ranked  \\\n",
       "539917        10    10        10        10  ...   123301        912   772.0   \n",
       "350196         5     4         4         4  ...   204209        528   346.0   \n",
       "477548         0     0         0         0  ...   415415        193   104.0   \n",
       "180083         7     7         8         8  ...   385072        227  1184.0   \n",
       "182619        10    10         8         9  ...   498692        134   493.0   \n",
       "\n",
       "       score                                            img_url  \\\n",
       "539917  7.87  https://cdn.myanimelist.net/images/anime/10/59...   \n",
       "350196  8.18  https://cdn.myanimelist.net/images/anime/9/755...   \n",
       "477548  8.48  https://cdn.myanimelist.net/images/anime/8/382...   \n",
       "180083  7.69  https://cdn.myanimelist.net/images/anime/12/43...   \n",
       "182619  8.06  https://cdn.myanimelist.net/images/anime/7/773...   \n",
       "\n",
       "                                                   link_x  gender  \\\n",
       "539917  https://myanimelist.net/anime/4087/Michiko_to_...  Female   \n",
       "350196  https://myanimelist.net/anime/1559/Shijou_Saik...    Male   \n",
       "477548  https://myanimelist.net/anime/10408/Hotarubi_n...    Male   \n",
       "180083  https://myanimelist.net/anime/15315/Mondaiji-t...    Male   \n",
       "182619             https://myanimelist.net/anime/227/FLCL    Male   \n",
       "\n",
       "            birthday                                    favorites_anime  \\\n",
       "539917  Jun 28, 1991             ['1033', '2167', '1535', '853', '325']   \n",
       "350196  Oct 14, 1986                ['19', '820', '1698', '16', '1033']   \n",
       "477548          1993                   ['7311', '164', '2966', '15039']   \n",
       "180083  Dec 15, 1974  ['2432', '2002', '1691', '16524', '12055', '39...   \n",
       "182619  Jan 15, 1990  ['440', '7785', '1', '1827', '339', '387', '16...   \n",
       "\n",
       "                                                  link_y  \n",
       "539917        https://myanimelist.net/profile/EbonyAnime  \n",
       "350196         https://myanimelist.net/profile/noteDhero  \n",
       "477548         https://myanimelist.net/profile/yaki_niku  \n",
       "180083         https://myanimelist.net/profile/Hectotane  \n",
       "182619  https://myanimelist.net/profile/NeverKnowsBest26  \n",
       "\n",
       "[5 rows x 26 columns]"
      ]
     },
     "execution_count": 9,
     "metadata": {},
     "output_type": "execute_result"
    }
   ],
   "source": [
    "sample_df = myanimelist_combined.sample(n=100)\n",
    "\n",
    "# Save the sample DataFrame to a CSV file\n",
    "sample_df.to_csv('sample_dataset.csv', index=False)\n",
    "\n",
    "sample_df.head()"
   ]
  },
  {
   "cell_type": "markdown",
   "metadata": {},
   "source": [
    "### Fine-grained Sentiment Analysis / Emotion Detection\n",
    "- Mood-based NLP on anime synopsis"
   ]
  },
  {
   "cell_type": "code",
   "execution_count": 10,
   "metadata": {},
   "outputs": [
    {
     "name": "stdout",
     "output_type": "stream",
     "text": [
      "Requirement already satisfied: torch in /Users/kariprimiano/anaconda3/lib/python3.11/site-packages (2.1.1)\n",
      "Requirement already satisfied: torchvision in /Users/kariprimiano/anaconda3/lib/python3.11/site-packages (0.16.1)\n",
      "Requirement already satisfied: torchaudio in /Users/kariprimiano/anaconda3/lib/python3.11/site-packages (2.1.1)\n",
      "Requirement already satisfied: filelock in /Users/kariprimiano/anaconda3/lib/python3.11/site-packages (from torch) (3.9.0)\n",
      "Requirement already satisfied: typing-extensions in /Users/kariprimiano/anaconda3/lib/python3.11/site-packages (from torch) (4.7.1)\n",
      "Requirement already satisfied: sympy in /Users/kariprimiano/anaconda3/lib/python3.11/site-packages (from torch) (1.11.1)\n",
      "Requirement already satisfied: networkx in /Users/kariprimiano/anaconda3/lib/python3.11/site-packages (from torch) (3.1)\n",
      "Requirement already satisfied: jinja2 in /Users/kariprimiano/anaconda3/lib/python3.11/site-packages (from torch) (3.1.2)\n",
      "Requirement already satisfied: fsspec in /Users/kariprimiano/anaconda3/lib/python3.11/site-packages (from torch) (2023.3.0)\n",
      "Requirement already satisfied: numpy in /Users/kariprimiano/anaconda3/lib/python3.11/site-packages (from torchvision) (1.24.3)\n",
      "Requirement already satisfied: requests in /Users/kariprimiano/anaconda3/lib/python3.11/site-packages (from torchvision) (2.31.0)\n",
      "Requirement already satisfied: pillow!=8.3.*,>=5.3.0 in /Users/kariprimiano/anaconda3/lib/python3.11/site-packages (from torchvision) (9.4.0)\n",
      "Requirement already satisfied: MarkupSafe>=2.0 in /Users/kariprimiano/anaconda3/lib/python3.11/site-packages (from jinja2->torch) (2.1.1)\n",
      "Requirement already satisfied: charset-normalizer<4,>=2 in /Users/kariprimiano/anaconda3/lib/python3.11/site-packages (from requests->torchvision) (2.0.4)\n",
      "Requirement already satisfied: idna<4,>=2.5 in /Users/kariprimiano/anaconda3/lib/python3.11/site-packages (from requests->torchvision) (3.4)\n",
      "Requirement already satisfied: urllib3<3,>=1.21.1 in /Users/kariprimiano/anaconda3/lib/python3.11/site-packages (from requests->torchvision) (1.26.16)\n",
      "Requirement already satisfied: certifi>=2017.4.17 in /Users/kariprimiano/anaconda3/lib/python3.11/site-packages (from requests->torchvision) (2023.7.22)\n",
      "Requirement already satisfied: mpmath>=0.19 in /Users/kariprimiano/anaconda3/lib/python3.11/site-packages (from sympy->torch) (1.3.0)\n",
      "Note: you may need to restart the kernel to use updated packages.\n"
     ]
    }
   ],
   "source": [
    "pip install torch torchvision torchaudio"
   ]
  },
  {
   "cell_type": "code",
   "execution_count": 11,
   "metadata": {},
   "outputs": [
    {
     "name": "stdout",
     "output_type": "stream",
     "text": [
      "2.1.1\n"
     ]
    }
   ],
   "source": [
    "import torch\n",
    "print(torch.__version__)"
   ]
  },
  {
   "cell_type": "code",
   "execution_count": 12,
   "metadata": {},
   "outputs": [
    {
     "name": "stdout",
     "output_type": "stream",
     "text": [
      "Requirement already satisfied: transformers in /Users/kariprimiano/anaconda3/lib/python3.11/site-packages (4.35.2)\n",
      "Requirement already satisfied: filelock in /Users/kariprimiano/anaconda3/lib/python3.11/site-packages (from transformers) (3.9.0)\n",
      "Requirement already satisfied: huggingface-hub<1.0,>=0.16.4 in /Users/kariprimiano/anaconda3/lib/python3.11/site-packages (from transformers) (0.19.4)\n",
      "Requirement already satisfied: numpy>=1.17 in /Users/kariprimiano/anaconda3/lib/python3.11/site-packages (from transformers) (1.24.3)\n",
      "Requirement already satisfied: packaging>=20.0 in /Users/kariprimiano/anaconda3/lib/python3.11/site-packages (from transformers) (23.0)\n",
      "Requirement already satisfied: pyyaml>=5.1 in /Users/kariprimiano/anaconda3/lib/python3.11/site-packages (from transformers) (6.0)\n",
      "Requirement already satisfied: regex!=2019.12.17 in /Users/kariprimiano/anaconda3/lib/python3.11/site-packages (from transformers) (2022.7.9)\n",
      "Requirement already satisfied: requests in /Users/kariprimiano/anaconda3/lib/python3.11/site-packages (from transformers) (2.31.0)\n",
      "Requirement already satisfied: tokenizers<0.19,>=0.14 in /Users/kariprimiano/anaconda3/lib/python3.11/site-packages (from transformers) (0.15.0)\n",
      "Requirement already satisfied: safetensors>=0.3.1 in /Users/kariprimiano/anaconda3/lib/python3.11/site-packages (from transformers) (0.4.1)\n",
      "Requirement already satisfied: tqdm>=4.27 in /Users/kariprimiano/anaconda3/lib/python3.11/site-packages (from transformers) (4.65.0)\n",
      "Collecting fsspec>=2023.5.0 (from huggingface-hub<1.0,>=0.16.4->transformers)\n",
      "  Obtaining dependency information for fsspec>=2023.5.0 from https://files.pythonhosted.org/packages/67/32/9276db0647d8142da3d9ec1af536522081813005a9d7aaebbdba082967c1/fsspec-2023.12.0-py3-none-any.whl.metadata\n",
      "  Using cached fsspec-2023.12.0-py3-none-any.whl.metadata (6.8 kB)\n",
      "Requirement already satisfied: typing-extensions>=3.7.4.3 in /Users/kariprimiano/anaconda3/lib/python3.11/site-packages (from huggingface-hub<1.0,>=0.16.4->transformers) (4.7.1)\n",
      "Requirement already satisfied: charset-normalizer<4,>=2 in /Users/kariprimiano/anaconda3/lib/python3.11/site-packages (from requests->transformers) (2.0.4)\n",
      "Requirement already satisfied: idna<4,>=2.5 in /Users/kariprimiano/anaconda3/lib/python3.11/site-packages (from requests->transformers) (3.4)\n",
      "Requirement already satisfied: urllib3<3,>=1.21.1 in /Users/kariprimiano/anaconda3/lib/python3.11/site-packages (from requests->transformers) (1.26.16)\n",
      "Requirement already satisfied: certifi>=2017.4.17 in /Users/kariprimiano/anaconda3/lib/python3.11/site-packages (from requests->transformers) (2023.7.22)\n",
      "Using cached fsspec-2023.12.0-py3-none-any.whl (168 kB)\n",
      "Installing collected packages: fsspec\n",
      "  Attempting uninstall: fsspec\n",
      "    Found existing installation: fsspec 2023.3.0\n",
      "    Uninstalling fsspec-2023.3.0:\n",
      "      Successfully uninstalled fsspec-2023.3.0\n",
      "Successfully installed fsspec-2023.12.0\n",
      "Note: you may need to restart the kernel to use updated packages.\n"
     ]
    }
   ],
   "source": [
    "pip install transformers"
   ]
  },
  {
   "cell_type": "code",
   "execution_count": 13,
   "metadata": {},
   "outputs": [
    {
     "name": "stdout",
     "output_type": "stream",
     "text": [
      "Requirement already satisfied: transformers in /Users/kariprimiano/anaconda3/lib/python3.11/site-packages (4.35.2)\n",
      "Requirement already satisfied: filelock in /Users/kariprimiano/anaconda3/lib/python3.11/site-packages (from transformers) (3.9.0)\n",
      "Requirement already satisfied: huggingface-hub<1.0,>=0.16.4 in /Users/kariprimiano/anaconda3/lib/python3.11/site-packages (from transformers) (0.19.4)\n",
      "Requirement already satisfied: numpy>=1.17 in /Users/kariprimiano/anaconda3/lib/python3.11/site-packages (from transformers) (1.24.3)\n",
      "Requirement already satisfied: packaging>=20.0 in /Users/kariprimiano/anaconda3/lib/python3.11/site-packages (from transformers) (23.0)\n",
      "Requirement already satisfied: pyyaml>=5.1 in /Users/kariprimiano/anaconda3/lib/python3.11/site-packages (from transformers) (6.0)\n",
      "Requirement already satisfied: regex!=2019.12.17 in /Users/kariprimiano/anaconda3/lib/python3.11/site-packages (from transformers) (2022.7.9)\n",
      "Requirement already satisfied: requests in /Users/kariprimiano/anaconda3/lib/python3.11/site-packages (from transformers) (2.31.0)\n",
      "Requirement already satisfied: tokenizers<0.19,>=0.14 in /Users/kariprimiano/anaconda3/lib/python3.11/site-packages (from transformers) (0.15.0)\n",
      "Requirement already satisfied: safetensors>=0.3.1 in /Users/kariprimiano/anaconda3/lib/python3.11/site-packages (from transformers) (0.4.1)\n",
      "Requirement already satisfied: tqdm>=4.27 in /Users/kariprimiano/anaconda3/lib/python3.11/site-packages (from transformers) (4.65.0)\n",
      "Requirement already satisfied: fsspec>=2023.5.0 in /Users/kariprimiano/anaconda3/lib/python3.11/site-packages (from huggingface-hub<1.0,>=0.16.4->transformers) (2023.12.0)\n",
      "Requirement already satisfied: typing-extensions>=3.7.4.3 in /Users/kariprimiano/anaconda3/lib/python3.11/site-packages (from huggingface-hub<1.0,>=0.16.4->transformers) (4.7.1)\n",
      "Requirement already satisfied: charset-normalizer<4,>=2 in /Users/kariprimiano/anaconda3/lib/python3.11/site-packages (from requests->transformers) (2.0.4)\n",
      "Requirement already satisfied: idna<4,>=2.5 in /Users/kariprimiano/anaconda3/lib/python3.11/site-packages (from requests->transformers) (3.4)\n",
      "Requirement already satisfied: urllib3<3,>=1.21.1 in /Users/kariprimiano/anaconda3/lib/python3.11/site-packages (from requests->transformers) (1.26.16)\n",
      "Requirement already satisfied: certifi>=2017.4.17 in /Users/kariprimiano/anaconda3/lib/python3.11/site-packages (from requests->transformers) (2023.7.22)\n",
      "Note: you may need to restart the kernel to use updated packages.\n"
     ]
    }
   ],
   "source": [
    "pip install --upgrade transformers"
   ]
  },
  {
   "cell_type": "code",
   "execution_count": 14,
   "metadata": {},
   "outputs": [
    {
     "name": "stdout",
     "output_type": "stream",
     "text": [
      "Name: transformers\n",
      "Version: 4.35.2\n",
      "Summary: State-of-the-art Machine Learning for JAX, PyTorch and TensorFlow\n",
      "Home-page: https://github.com/huggingface/transformers\n",
      "Author: The Hugging Face team (past and future) with the help of all our contributors (https://github.com/huggingface/transformers/graphs/contributors)\n",
      "Author-email: transformers@huggingface.co\n",
      "License: Apache 2.0 License\n",
      "Location: /Users/kariprimiano/anaconda3/lib/python3.11/site-packages\n",
      "Requires: filelock, huggingface-hub, numpy, packaging, pyyaml, regex, requests, safetensors, tokenizers, tqdm\n",
      "Required-by: \n",
      "Note: you may need to restart the kernel to use updated packages.\n"
     ]
    }
   ],
   "source": [
    "pip show transformers"
   ]
  },
  {
   "cell_type": "code",
   "execution_count": 15,
   "metadata": {},
   "outputs": [
    {
     "name": "stdout",
     "output_type": "stream",
     "text": [
      "Requirement already satisfied: s3fs in /Users/kariprimiano/anaconda3/lib/python3.11/site-packages (2023.12.0)\n",
      "Requirement already satisfied: aiobotocore<3.0.0,>=2.5.4 in /Users/kariprimiano/anaconda3/lib/python3.11/site-packages (from s3fs) (2.8.0)\n",
      "Requirement already satisfied: fsspec==2023.12.0 in /Users/kariprimiano/anaconda3/lib/python3.11/site-packages (from s3fs) (2023.12.0)\n",
      "Requirement already satisfied: aiohttp!=4.0.0a0,!=4.0.0a1 in /Users/kariprimiano/anaconda3/lib/python3.11/site-packages (from s3fs) (3.8.3)\n",
      "Requirement already satisfied: botocore<1.33.2,>=1.32.4 in /Users/kariprimiano/anaconda3/lib/python3.11/site-packages (from aiobotocore<3.0.0,>=2.5.4->s3fs) (1.33.1)\n",
      "Requirement already satisfied: wrapt<2.0.0,>=1.10.10 in /Users/kariprimiano/anaconda3/lib/python3.11/site-packages (from aiobotocore<3.0.0,>=2.5.4->s3fs) (1.14.1)\n",
      "Requirement already satisfied: aioitertools<1.0.0,>=0.5.1 in /Users/kariprimiano/anaconda3/lib/python3.11/site-packages (from aiobotocore<3.0.0,>=2.5.4->s3fs) (0.7.1)\n",
      "Requirement already satisfied: attrs>=17.3.0 in /Users/kariprimiano/anaconda3/lib/python3.11/site-packages (from aiohttp!=4.0.0a0,!=4.0.0a1->s3fs) (22.1.0)\n",
      "Requirement already satisfied: charset-normalizer<3.0,>=2.0 in /Users/kariprimiano/anaconda3/lib/python3.11/site-packages (from aiohttp!=4.0.0a0,!=4.0.0a1->s3fs) (2.0.4)\n",
      "Requirement already satisfied: multidict<7.0,>=4.5 in /Users/kariprimiano/anaconda3/lib/python3.11/site-packages (from aiohttp!=4.0.0a0,!=4.0.0a1->s3fs) (6.0.2)\n",
      "Requirement already satisfied: async-timeout<5.0,>=4.0.0a3 in /Users/kariprimiano/anaconda3/lib/python3.11/site-packages (from aiohttp!=4.0.0a0,!=4.0.0a1->s3fs) (4.0.2)\n",
      "Requirement already satisfied: yarl<2.0,>=1.0 in /Users/kariprimiano/anaconda3/lib/python3.11/site-packages (from aiohttp!=4.0.0a0,!=4.0.0a1->s3fs) (1.8.1)\n",
      "Requirement already satisfied: frozenlist>=1.1.1 in /Users/kariprimiano/anaconda3/lib/python3.11/site-packages (from aiohttp!=4.0.0a0,!=4.0.0a1->s3fs) (1.3.3)\n",
      "Requirement already satisfied: aiosignal>=1.1.2 in /Users/kariprimiano/anaconda3/lib/python3.11/site-packages (from aiohttp!=4.0.0a0,!=4.0.0a1->s3fs) (1.2.0)\n",
      "Requirement already satisfied: typing_extensions>=3.7 in /Users/kariprimiano/anaconda3/lib/python3.11/site-packages (from aioitertools<1.0.0,>=0.5.1->aiobotocore<3.0.0,>=2.5.4->s3fs) (4.7.1)\n",
      "Requirement already satisfied: jmespath<2.0.0,>=0.7.1 in /Users/kariprimiano/anaconda3/lib/python3.11/site-packages (from botocore<1.33.2,>=1.32.4->aiobotocore<3.0.0,>=2.5.4->s3fs) (0.10.0)\n",
      "Requirement already satisfied: python-dateutil<3.0.0,>=2.1 in /Users/kariprimiano/anaconda3/lib/python3.11/site-packages (from botocore<1.33.2,>=1.32.4->aiobotocore<3.0.0,>=2.5.4->s3fs) (2.8.2)\n",
      "Requirement already satisfied: urllib3<2.1,>=1.25.4 in /Users/kariprimiano/anaconda3/lib/python3.11/site-packages (from botocore<1.33.2,>=1.32.4->aiobotocore<3.0.0,>=2.5.4->s3fs) (1.26.16)\n",
      "Requirement already satisfied: idna>=2.0 in /Users/kariprimiano/anaconda3/lib/python3.11/site-packages (from yarl<2.0,>=1.0->aiohttp!=4.0.0a0,!=4.0.0a1->s3fs) (3.4)\n",
      "Requirement already satisfied: six>=1.5 in /Users/kariprimiano/anaconda3/lib/python3.11/site-packages (from python-dateutil<3.0.0,>=2.1->botocore<1.33.2,>=1.32.4->aiobotocore<3.0.0,>=2.5.4->s3fs) (1.16.0)\n",
      "Note: you may need to restart the kernel to use updated packages.\n"
     ]
    }
   ],
   "source": [
    "pip install --upgrade s3fs"
   ]
  },
  {
   "cell_type": "code",
   "execution_count": 16,
   "metadata": {},
   "outputs": [
    {
     "name": "stdout",
     "output_type": "stream",
     "text": [
      "Collecting fsspec==2023.3.0\n",
      "  Using cached fsspec-2023.3.0-py3-none-any.whl (145 kB)\n",
      "Installing collected packages: fsspec\n",
      "  Attempting uninstall: fsspec\n",
      "    Found existing installation: fsspec 2023.12.0\n",
      "    Uninstalling fsspec-2023.12.0:\n",
      "      Successfully uninstalled fsspec-2023.12.0\n",
      "\u001b[31mERROR: pip's dependency resolver does not currently take into account all the packages that are installed. This behaviour is the source of the following dependency conflicts.\n",
      "s3fs 2023.12.0 requires fsspec==2023.12.0, but you have fsspec 2023.3.0 which is incompatible.\n",
      "huggingface-hub 0.19.4 requires fsspec>=2023.5.0, but you have fsspec 2023.3.0 which is incompatible.\u001b[0m\u001b[31m\n",
      "\u001b[0mSuccessfully installed fsspec-2023.3.0\n",
      "Note: you may need to restart the kernel to use updated packages.\n"
     ]
    }
   ],
   "source": [
    "pip install fsspec==2023.3.0"
   ]
  },
  {
   "cell_type": "code",
   "execution_count": 17,
   "metadata": {},
   "outputs": [],
   "source": [
    "from transformers import pipeline"
   ]
  },
  {
   "cell_type": "code",
   "execution_count": 18,
   "metadata": {},
   "outputs": [
    {
     "data": {
      "application/vnd.jupyter.widget-view+json": {
       "model_id": "fedcf81c717440d4ad0d9e0a58f35906",
       "version_major": 2,
       "version_minor": 0
      },
      "text/plain": [
       "pytorch_model.bin:   0%|          | 0.00/329M [00:00<?, ?B/s]"
      ]
     },
     "metadata": {},
     "output_type": "display_data"
    },
    {
     "data": {
      "application/vnd.jupyter.widget-view+json": {
       "model_id": "16746030379d490f971894dd83a53052",
       "version_major": 2,
       "version_minor": 0
      },
      "text/plain": [
       "tokenizer_config.json:   0%|          | 0.00/294 [00:00<?, ?B/s]"
      ]
     },
     "metadata": {},
     "output_type": "display_data"
    },
    {
     "data": {
      "application/vnd.jupyter.widget-view+json": {
       "model_id": "3da607afe33d4c4d8afeb9aed9a179c2",
       "version_major": 2,
       "version_minor": 0
      },
      "text/plain": [
       "vocab.json:   0%|          | 0.00/798k [00:00<?, ?B/s]"
      ]
     },
     "metadata": {},
     "output_type": "display_data"
    },
    {
     "data": {
      "application/vnd.jupyter.widget-view+json": {
       "model_id": "a8d0bf3800844d1cb6c429bb74648f0a",
       "version_major": 2,
       "version_minor": 0
      },
      "text/plain": [
       "merges.txt:   0%|          | 0.00/456k [00:00<?, ?B/s]"
      ]
     },
     "metadata": {},
     "output_type": "display_data"
    },
    {
     "data": {
      "application/vnd.jupyter.widget-view+json": {
       "model_id": "a371d1df19674eb9b83d1ce28d857cc0",
       "version_major": 2,
       "version_minor": 0
      },
      "text/plain": [
       "tokenizer.json:   0%|          | 0.00/1.36M [00:00<?, ?B/s]"
      ]
     },
     "metadata": {},
     "output_type": "display_data"
    },
    {
     "data": {
      "application/vnd.jupyter.widget-view+json": {
       "model_id": "916bc91d0e2e4008a9a99f9841c6fea8",
       "version_major": 2,
       "version_minor": 0
      },
      "text/plain": [
       "special_tokens_map.json:   0%|          | 0.00/239 [00:00<?, ?B/s]"
      ]
     },
     "metadata": {},
     "output_type": "display_data"
    }
   ],
   "source": [
    "# Load the model and tokenizer\n",
    "emotion_classifier = pipeline('text-classification', model='j-hartmann/emotion-english-distilroberta-base', return_all_scores=True)\n",
    "\n",
    "# Function to classify emotions of a text\n",
    "def classify_emotions(text):\n",
    "    predictions = emotion_classifier(text)\n",
    "    return {emotion['label']: emotion['score'] for emotion in predictions[0]}\n",
    "\n"
   ]
  },
  {
   "cell_type": "code",
   "execution_count": 20,
   "metadata": {},
   "outputs": [],
   "source": [
    "from transformers import DistilBertTokenizer"
   ]
  },
  {
   "cell_type": "code",
   "execution_count": 22,
   "metadata": {},
   "outputs": [],
   "source": [
    "# Function to classify emotions of a text\n",
    "def classify_emotions(text):\n",
    "    try:\n",
    "        predictions = emotion_classifier(text)\n",
    "        return {emotion['label']: emotion['score'] for emotion in predictions[0]}\n",
    "    except Exception as e:\n",
    "        print(f\"Error processing text: {e}\")\n",
    "        return {}\n",
    "\n",
    "# Apply the model to each synopsis individually\n",
    "myanimelist_combined['emotion_scores'] = myanimelist_combined['synopsis'].apply(lambda x: classify_emotions(x))\n",
    "\n",
    "# Display the results\n",
    "myanimelist_combined[['synopsis', 'emotion_scores']].head()\n"
   ]
  },
  {
   "cell_type": "code",
   "execution_count": null,
   "metadata": {},
   "outputs": [],
   "source": []
  }
 ],
 "metadata": {
  "kernelspec": {
   "display_name": "learn-env",
   "language": "python",
   "name": "python3"
  },
  "language_info": {
   "codemirror_mode": {
    "name": "ipython",
    "version": 3
   },
   "file_extension": ".py",
   "mimetype": "text/x-python",
   "name": "python",
   "nbconvert_exporter": "python",
   "pygments_lexer": "ipython3",
   "version": "3.11.4"
  }
 },
 "nbformat": 4,
 "nbformat_minor": 2
}
