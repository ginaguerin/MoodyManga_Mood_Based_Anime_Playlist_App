{
 "cells": [
  {
   "cell_type": "code",
   "execution_count": 3,
   "metadata": {},
   "outputs": [
    {
     "name": "stderr",
     "output_type": "stream",
     "text": [
      "/Users/kariprimiano/anaconda3/envs/learn-env/lib/python3.8/site-packages/requests/__init__.py:89: RequestsDependencyWarning: urllib3 (2.0.7) or chardet (5.2.0) doesn't match a supported version!\n",
      "  warnings.warn(\"urllib3 ({}) or chardet ({}) doesn't match a supported \"\n"
     ]
    }
   ],
   "source": [
    "import requests\n",
    "import pandas as pd\n",
    "import time\n",
    "import json"
   ]
  },
  {
   "cell_type": "markdown",
   "metadata": {},
   "source": [
    "### TMDB API Pull with Anime Keyword"
   ]
  },
  {
   "cell_type": "code",
   "execution_count": 89,
   "metadata": {},
   "outputs": [
    {
     "name": "stdout",
     "output_type": "stream",
     "text": [
      "No anime information found\n"
     ]
    }
   ],
   "source": [
    "def get_anime_info(api_key, keyword_id, genre_id, start_page=1, end_page=5000):\n",
    "    all_anime = []\n",
    "    for page in range(start_page, end_page + 1):\n",
    "        url = \"https://api.themoviedb.org/3/discover/tv\"\n",
    "        params = {\n",
    "            'api_key': api_key,\n",
    "            'with_genres': genre_id,\n",
    "            'with_keywords': keyword_id,\n",
    "            'language': 'en-US',\n",
    "            'sort_by': 'popularity.desc',\n",
    "            'page': page\n",
    "        }\n",
    "        response = requests.get(url, params=params)\n",
    "        if response.status_code == 200:\n",
    "            all_anime.extend(response.json().get('results', []))\n",
    "            if page % 50 == 0:\n",
    "                pd.DataFrame(all_anime).to_csv(f'anime_data_{page}.csv')\n",
    "                all_anime = []\n",
    "        else:\n",
    "            break\n",
    "        time.sleep(0.5)\n",
    "    return all_anime\n",
    "\n",
    "api_key = '2c818416a26da0b84f6a14364b6aa0eb'\n",
    "\n",
    "# Get the keyword ID for 'anime'\n",
    "anime_keyword_id = get_keyword_id(api_key, 'anime')\n",
    "\n",
    "# Animation genre ID (also used for anime)\n",
    "genre_id = 16\n",
    "\n",
    "if anime_keyword_id:\n",
    "    anime_info = get_anime_info(api_key, anime_keyword_id, genre_id, start_page=1, end_page=5000)\n",
    "    if anime_info:\n",
    "        df_anime = pd.DataFrame(anime_info)\n",
    "        df_anime.to_csv('final_anime_data.csv')\n",
    "        print(\"Data fetching complete.\")\n",
    "    else:\n",
    "        print(\"No anime information found\")\n",
    "else:\n",
    "    print(\"Anime keyword ID not found\")\n"
   ]
  },
  {
   "cell_type": "code",
   "execution_count": 5,
   "metadata": {},
   "outputs": [
    {
     "name": "stdout",
     "output_type": "stream",
     "text": [
      "<class 'pandas.core.frame.DataFrame'>\n",
      "RangeIndex: 271 entries, 0 to 270\n",
      "Data columns (total 14 columns):\n",
      " #   Column             Non-Null Count  Dtype  \n",
      "---  ------             --------------  -----  \n",
      " 0   Unnamed: 0         271 non-null    int64  \n",
      " 1   backdrop_path      151 non-null    object \n",
      " 2   genre_ids          271 non-null    object \n",
      " 3   id                 271 non-null    int64  \n",
      " 4   name               271 non-null    object \n",
      " 5   origin_country     271 non-null    object \n",
      " 6   original_language  271 non-null    object \n",
      " 7   original_name      271 non-null    object \n",
      " 8   overview           220 non-null    object \n",
      " 9   popularity         271 non-null    float64\n",
      " 10  poster_path        254 non-null    object \n",
      " 11  vote_average       271 non-null    float64\n",
      " 12  vote_count         271 non-null    int64  \n",
      " 13  first_air_date     179 non-null    object \n",
      "dtypes: float64(2), int64(3), object(9)\n",
      "memory usage: 29.8+ KB\n"
     ]
    }
   ],
   "source": [
    "df_anime = pd.read_csv('data/anime_data_tmdb.csv')\n",
    "df_anime.info()"
   ]
  },
  {
   "cell_type": "code",
   "execution_count": 6,
   "metadata": {},
   "outputs": [
    {
     "name": "stdout",
     "output_type": "stream",
     "text": [
      "<class 'pandas.core.frame.DataFrame'>\n",
      "RangeIndex: 1000 entries, 0 to 999\n",
      "Data columns (total 14 columns):\n",
      " #   Column             Non-Null Count  Dtype  \n",
      "---  ------             --------------  -----  \n",
      " 0   Unnamed: 0         1000 non-null   int64  \n",
      " 1   backdrop_path      983 non-null    object \n",
      " 2   first_air_date     999 non-null    object \n",
      " 3   genre_ids          1000 non-null   object \n",
      " 4   id                 1000 non-null   int64  \n",
      " 5   name               1000 non-null   object \n",
      " 6   origin_country     1000 non-null   object \n",
      " 7   original_language  1000 non-null   object \n",
      " 8   original_name      1000 non-null   object \n",
      " 9   overview           981 non-null    object \n",
      " 10  popularity         1000 non-null   float64\n",
      " 11  poster_path        1000 non-null   object \n",
      " 12  vote_average       1000 non-null   float64\n",
      " 13  vote_count         1000 non-null   int64  \n",
      "dtypes: float64(2), int64(3), object(9)\n",
      "memory usage: 109.5+ KB\n"
     ]
    }
   ],
   "source": [
    "df_anime_1000 = pd.read_csv('data/anime_data_100.csv')\n",
    "df_anime_1000.info()"
   ]
  },
  {
   "cell_type": "code",
   "execution_count": 7,
   "metadata": {},
   "outputs": [
    {
     "name": "stdout",
     "output_type": "stream",
     "text": [
      "<class 'pandas.core.frame.DataFrame'>\n",
      "RangeIndex: 1000 entries, 0 to 999\n",
      "Data columns (total 14 columns):\n",
      " #   Column             Non-Null Count  Dtype  \n",
      "---  ------             --------------  -----  \n",
      " 0   Unnamed: 0         1000 non-null   int64  \n",
      " 1   backdrop_path      905 non-null    object \n",
      " 2   first_air_date     969 non-null    object \n",
      " 3   genre_ids          1000 non-null   object \n",
      " 4   id                 1000 non-null   int64  \n",
      " 5   name               1000 non-null   object \n",
      " 6   origin_country     1000 non-null   object \n",
      " 7   original_language  1000 non-null   object \n",
      " 8   original_name      1000 non-null   object \n",
      " 9   overview           921 non-null    object \n",
      " 10  popularity         1000 non-null   float64\n",
      " 11  poster_path        997 non-null    object \n",
      " 12  vote_average       1000 non-null   float64\n",
      " 13  vote_count         1000 non-null   int64  \n",
      "dtypes: float64(2), int64(3), object(9)\n",
      "memory usage: 109.5+ KB\n"
     ]
    }
   ],
   "source": [
    "df_anime_1500 = pd.read_csv('data/anime_data_150.csv')\n",
    "df_anime_1500.info()"
   ]
  },
  {
   "cell_type": "markdown",
   "metadata": {},
   "source": [
    "### Combining TMDB anime datasets"
   ]
  },
  {
   "cell_type": "code",
   "execution_count": 13,
   "metadata": {},
   "outputs": [],
   "source": [
    "csv_file_paths = ['data/anime_data_50.csv', 'data/anime_data_100.csv', 'data/anime_data_150.csv', 'data/anime_data_250.csv']\n",
    "\n",
    "# Read each csv file into a dataframe\n",
    "dataframes = [pd.read_csv(file_path) for file_path in csv_file_paths]\n"
   ]
  },
  {
   "cell_type": "code",
   "execution_count": 14,
   "metadata": {},
   "outputs": [],
   "source": [
    "combined_anime_tmdb = pd.concat(dataframes, ignore_index=True)"
   ]
  },
  {
   "cell_type": "code",
   "execution_count": 15,
   "metadata": {},
   "outputs": [],
   "source": [
    "# Convert list to string\n",
    "combined_anime_tmdb['genre_ids'] = combined_anime_tmdb['genre_ids'].apply(lambda x: ','.join(map(str, x)) if isinstance(x, list) else x)\n",
    "\n",
    "# Drop irrelevant columns\n",
    "combined_anime_tmdb = combined_anime_tmdb.drop(columns=['origin_country', 'backdrop_path', 'poster_path', 'Unnamed: 0'])\n",
    "\n",
    "# Remove duplicates\n",
    "combined_anime_tmdb = combined_anime_tmdb.drop_duplicates()"
   ]
  },
  {
   "cell_type": "code",
   "execution_count": 16,
   "metadata": {},
   "outputs": [
    {
     "name": "stdout",
     "output_type": "stream",
     "text": [
      "<class 'pandas.core.frame.DataFrame'>\n",
      "Int64Index: 3271 entries, 0 to 3270\n",
      "Data columns (total 10 columns):\n",
      " #   Column             Non-Null Count  Dtype  \n",
      "---  ------             --------------  -----  \n",
      " 0   first_air_date     3146 non-null   object \n",
      " 1   genre_ids          3271 non-null   object \n",
      " 2   id                 3271 non-null   int64  \n",
      " 3   name               3271 non-null   object \n",
      " 4   original_language  3271 non-null   object \n",
      " 5   original_name      3271 non-null   object \n",
      " 6   overview           3120 non-null   object \n",
      " 7   popularity         3271 non-null   float64\n",
      " 8   vote_average       3271 non-null   float64\n",
      " 9   vote_count         3271 non-null   int64  \n",
      "dtypes: float64(2), int64(2), object(6)\n",
      "memory usage: 281.1+ KB\n"
     ]
    }
   ],
   "source": [
    "combined_anime_tmdb.info()"
   ]
  },
  {
   "cell_type": "code",
   "execution_count": 17,
   "metadata": {},
   "outputs": [],
   "source": [
    "# Save to csv file\n",
    "combined_anime_tmdb.to_csv('data/anime_tmbd_master.csv', index=False)"
   ]
  },
  {
   "cell_type": "markdown",
   "metadata": {},
   "source": [
    "### Adding data from MyAnimeList"
   ]
  },
  {
   "cell_type": "code",
   "execution_count": 18,
   "metadata": {},
   "outputs": [],
   "source": [
    "import zipfile\n",
    "import os\n",
    "\n",
    "zip_file_path = 'data/myanimelist.zip'\n",
    "\n",
    "extract_path = 'extracted_csv_files'\n",
    "\n",
    "if not os.path.exists(extract_path):\n",
    "    os.makedirs(extract_path)\n",
    "\n",
    "# Extract csv files\n",
    "with zipfile.ZipFile(zip_file_path, 'r') as zip_ref:\n",
    "    # Extract all csv files\n",
    "    for file_name in zip_ref.namelist():\n",
    "        if file_name.endswith('.csv'):\n",
    "            zip_ref.extract(file_name, path=extract_path)\n"
   ]
  },
  {
   "cell_type": "code",
   "execution_count": 20,
   "metadata": {},
   "outputs": [
    {
     "name": "stdout",
     "output_type": "stream",
     "text": [
      "<class 'pandas.core.frame.DataFrame'>\n",
      "RangeIndex: 19311 entries, 0 to 19310\n",
      "Data columns (total 12 columns):\n",
      " #   Column      Non-Null Count  Dtype  \n",
      "---  ------      --------------  -----  \n",
      " 0   uid         19311 non-null  int64  \n",
      " 1   title       19311 non-null  object \n",
      " 2   synopsis    18336 non-null  object \n",
      " 3   genre       19311 non-null  object \n",
      " 4   aired       19311 non-null  object \n",
      " 5   episodes    18605 non-null  float64\n",
      " 6   members     19311 non-null  int64  \n",
      " 7   popularity  19311 non-null  int64  \n",
      " 8   ranked      16099 non-null  float64\n",
      " 9   score       18732 non-null  float64\n",
      " 10  img_url     19131 non-null  object \n",
      " 11  link        19311 non-null  object \n",
      "dtypes: float64(3), int64(3), object(6)\n",
      "memory usage: 1.8+ MB\n"
     ]
    }
   ],
   "source": [
    "animes_df = pd.read_csv('data/extracted_csv_files/animes.csv')\n",
    "animes_df.info()"
   ]
  },
  {
   "cell_type": "code",
   "execution_count": 21,
   "metadata": {},
   "outputs": [
    {
     "name": "stdout",
     "output_type": "stream",
     "text": [
      "<class 'pandas.core.frame.DataFrame'>\n",
      "RangeIndex: 81727 entries, 0 to 81726\n",
      "Data columns (total 5 columns):\n",
      " #   Column           Non-Null Count  Dtype \n",
      "---  ------           --------------  ----- \n",
      " 0   profile          81727 non-null  object\n",
      " 1   gender           53856 non-null  object\n",
      " 2   birthday         46807 non-null  object\n",
      " 3   favorites_anime  81727 non-null  object\n",
      " 4   link             81727 non-null  object\n",
      "dtypes: object(5)\n",
      "memory usage: 3.1+ MB\n"
     ]
    }
   ],
   "source": [
    "profiles_df = pd.read_csv('data/extracted_csv_files/profiles.csv')\n",
    "profiles_df.info()"
   ]
  },
  {
   "cell_type": "code",
   "execution_count": 22,
   "metadata": {},
   "outputs": [
    {
     "name": "stdout",
     "output_type": "stream",
     "text": [
      "<class 'pandas.core.frame.DataFrame'>\n",
      "RangeIndex: 192112 entries, 0 to 192111\n",
      "Data columns (total 7 columns):\n",
      " #   Column     Non-Null Count   Dtype \n",
      "---  ------     --------------   ----- \n",
      " 0   uid        192112 non-null  int64 \n",
      " 1   profile    192112 non-null  object\n",
      " 2   anime_uid  192112 non-null  int64 \n",
      " 3   text       192112 non-null  object\n",
      " 4   score      192112 non-null  int64 \n",
      " 5   scores     192112 non-null  object\n",
      " 6   link       192112 non-null  object\n",
      "dtypes: int64(3), object(4)\n",
      "memory usage: 10.3+ MB\n"
     ]
    }
   ],
   "source": [
    "reviews_df = pd.read_csv('data/extracted_csv_files/reviews.csv')\n",
    "reviews_df.info()"
   ]
  },
  {
   "cell_type": "markdown",
   "metadata": {},
   "source": [
    "### Joining MyAnimeList data files"
   ]
  },
  {
   "cell_type": "code",
   "execution_count": 23,
   "metadata": {},
   "outputs": [],
   "source": [
    "# Join anime_df and reviews_df\n",
    "myanimelist_merged = animes_df.merge(reviews_df, left_on='uid', right_on='anime_uid', how='outer')\n",
    "\n",
    "# Join the result with profiles_df\n",
    "myanimelist_df = myanimelist_merged.merge(profiles_df, on='profile', how='outer')\n"
   ]
  },
  {
   "cell_type": "code",
   "execution_count": 153,
   "metadata": {},
   "outputs": [
    {
     "name": "stdout",
     "output_type": "stream",
     "text": [
      "<class 'pandas.core.frame.DataFrame'>\n",
      "Int64Index: 820627 entries, 0 to 820626\n",
      "Data columns (total 23 columns):\n",
      " #   Column           Non-Null Count   Dtype  \n",
      "---  ------           --------------   -----  \n",
      " 0   uid_x            820627 non-null  int64  \n",
      " 1   title            820627 non-null  object \n",
      " 2   synopsis         817619 non-null  object \n",
      " 3   genre            820627 non-null  object \n",
      " 4   aired            820627 non-null  object \n",
      " 5   episodes         814581 non-null  float64\n",
      " 6   members          820627 non-null  int64  \n",
      " 7   popularity       820627 non-null  int64  \n",
      " 8   ranked           787639 non-null  float64\n",
      " 9   score_x          820048 non-null  float64\n",
      " 10  img_url          820349 non-null  object \n",
      " 11  link_x           820627 non-null  object \n",
      " 12  uid_y            811636 non-null  float64\n",
      " 13  profile          811636 non-null  object \n",
      " 14  anime_uid        811636 non-null  float64\n",
      " 15  text             811636 non-null  object \n",
      " 16  score_y          811636 non-null  float64\n",
      " 17  scores           811636 non-null  object \n",
      " 18  link_y           811636 non-null  object \n",
      " 19  gender           600087 non-null  object \n",
      " 20  birthday         523667 non-null  object \n",
      " 21  favorites_anime  811636 non-null  object \n",
      " 22  link             811636 non-null  object \n",
      "dtypes: float64(6), int64(3), object(14)\n",
      "memory usage: 150.3+ MB\n"
     ]
    }
   ],
   "source": [
    "myanimelist_df.info()"
   ]
  },
  {
   "cell_type": "code",
   "execution_count": 154,
   "metadata": {},
   "outputs": [
    {
     "data": {
      "text/html": [
       "<div>\n",
       "<style scoped>\n",
       "    .dataframe tbody tr th:only-of-type {\n",
       "        vertical-align: middle;\n",
       "    }\n",
       "\n",
       "    .dataframe tbody tr th {\n",
       "        vertical-align: top;\n",
       "    }\n",
       "\n",
       "    .dataframe thead th {\n",
       "        text-align: right;\n",
       "    }\n",
       "</style>\n",
       "<table border=\"1\" class=\"dataframe\">\n",
       "  <thead>\n",
       "    <tr style=\"text-align: right;\">\n",
       "      <th></th>\n",
       "      <th>uid_x</th>\n",
       "      <th>title</th>\n",
       "      <th>synopsis</th>\n",
       "      <th>genre</th>\n",
       "      <th>aired</th>\n",
       "      <th>episodes</th>\n",
       "      <th>members</th>\n",
       "      <th>popularity</th>\n",
       "      <th>ranked</th>\n",
       "      <th>score_x</th>\n",
       "      <th>...</th>\n",
       "      <th>profile</th>\n",
       "      <th>anime_uid</th>\n",
       "      <th>text</th>\n",
       "      <th>score_y</th>\n",
       "      <th>scores</th>\n",
       "      <th>link_y</th>\n",
       "      <th>gender</th>\n",
       "      <th>birthday</th>\n",
       "      <th>favorites_anime</th>\n",
       "      <th>link</th>\n",
       "    </tr>\n",
       "  </thead>\n",
       "  <tbody>\n",
       "    <tr>\n",
       "      <th>0</th>\n",
       "      <td>28891</td>\n",
       "      <td>Haikyuu!! Second Season</td>\n",
       "      <td>Following their participation at the Inter-Hig...</td>\n",
       "      <td>['Comedy', 'Sports', 'Drama', 'School', 'Shoun...</td>\n",
       "      <td>Oct 4, 2015 to Mar 27, 2016</td>\n",
       "      <td>25.0</td>\n",
       "      <td>489888</td>\n",
       "      <td>141</td>\n",
       "      <td>25.0</td>\n",
       "      <td>8.82</td>\n",
       "      <td>...</td>\n",
       "      <td>skrn</td>\n",
       "      <td>28891.0</td>\n",
       "      <td>\\n           \\n         \\n           \\n       ...</td>\n",
       "      <td>7.0</td>\n",
       "      <td>{'Overall': '7', 'Story': '7', 'Animation': '9...</td>\n",
       "      <td>https://myanimelist.net/reviews.php?id=253664</td>\n",
       "      <td>NaN</td>\n",
       "      <td>NaN</td>\n",
       "      <td>['918', '2904', '11741', '17074', '23273', '32...</td>\n",
       "      <td>https://myanimelist.net/profile/skrn</td>\n",
       "    </tr>\n",
       "    <tr>\n",
       "      <th>1</th>\n",
       "      <td>28891</td>\n",
       "      <td>Haikyuu!! Second Season</td>\n",
       "      <td>Following their participation at the Inter-Hig...</td>\n",
       "      <td>['Comedy', 'Sports', 'Drama', 'School', 'Shoun...</td>\n",
       "      <td>Oct 4, 2015 to Mar 27, 2016</td>\n",
       "      <td>25.0</td>\n",
       "      <td>489888</td>\n",
       "      <td>141</td>\n",
       "      <td>25.0</td>\n",
       "      <td>8.82</td>\n",
       "      <td>...</td>\n",
       "      <td>skrn</td>\n",
       "      <td>28891.0</td>\n",
       "      <td>\\n           \\n         \\n           \\n       ...</td>\n",
       "      <td>7.0</td>\n",
       "      <td>{'Overall': '7', 'Story': '7', 'Animation': '9...</td>\n",
       "      <td>https://myanimelist.net/reviews.php?id=253664</td>\n",
       "      <td>NaN</td>\n",
       "      <td>NaN</td>\n",
       "      <td>['918', '2904', '11741', '17074', '23273', '32...</td>\n",
       "      <td>https://myanimelist.net/profile/skrn</td>\n",
       "    </tr>\n",
       "    <tr>\n",
       "      <th>2</th>\n",
       "      <td>28891</td>\n",
       "      <td>Haikyuu!! Second Season</td>\n",
       "      <td>Following their participation at the Inter-Hig...</td>\n",
       "      <td>['Comedy', 'Sports', 'Drama', 'School', 'Shoun...</td>\n",
       "      <td>Oct 4, 2015 to Mar 27, 2016</td>\n",
       "      <td>25.0</td>\n",
       "      <td>489888</td>\n",
       "      <td>141</td>\n",
       "      <td>25.0</td>\n",
       "      <td>8.82</td>\n",
       "      <td>...</td>\n",
       "      <td>skrn</td>\n",
       "      <td>28891.0</td>\n",
       "      <td>\\n           \\n         \\n           \\n       ...</td>\n",
       "      <td>7.0</td>\n",
       "      <td>{'Overall': '7', 'Story': '7', 'Animation': '9...</td>\n",
       "      <td>https://myanimelist.net/reviews.php?id=253664</td>\n",
       "      <td>NaN</td>\n",
       "      <td>NaN</td>\n",
       "      <td>['918', '2904', '11741', '17074', '23273', '32...</td>\n",
       "      <td>https://myanimelist.net/profile/skrn</td>\n",
       "    </tr>\n",
       "    <tr>\n",
       "      <th>3</th>\n",
       "      <td>28891</td>\n",
       "      <td>Haikyuu!! Second Season</td>\n",
       "      <td>Following their participation at the Inter-Hig...</td>\n",
       "      <td>['Comedy', 'Sports', 'Drama', 'School', 'Shoun...</td>\n",
       "      <td>Oct 4, 2015 to Mar 27, 2016</td>\n",
       "      <td>25.0</td>\n",
       "      <td>489888</td>\n",
       "      <td>141</td>\n",
       "      <td>25.0</td>\n",
       "      <td>8.82</td>\n",
       "      <td>...</td>\n",
       "      <td>skrn</td>\n",
       "      <td>28891.0</td>\n",
       "      <td>\\n           \\n         \\n           \\n       ...</td>\n",
       "      <td>7.0</td>\n",
       "      <td>{'Overall': '7', 'Story': '7', 'Animation': '9...</td>\n",
       "      <td>https://myanimelist.net/reviews.php?id=253664</td>\n",
       "      <td>NaN</td>\n",
       "      <td>NaN</td>\n",
       "      <td>['918', '2904', '11741', '17074', '23273', '32...</td>\n",
       "      <td>https://myanimelist.net/profile/skrn</td>\n",
       "    </tr>\n",
       "    <tr>\n",
       "      <th>4</th>\n",
       "      <td>28891</td>\n",
       "      <td>Haikyuu!! Second Season</td>\n",
       "      <td>Following their participation at the Inter-Hig...</td>\n",
       "      <td>['Comedy', 'Sports', 'Drama', 'School', 'Shoun...</td>\n",
       "      <td>Oct 4, 2015 to Mar 27, 2016</td>\n",
       "      <td>25.0</td>\n",
       "      <td>489888</td>\n",
       "      <td>141</td>\n",
       "      <td>25.0</td>\n",
       "      <td>8.82</td>\n",
       "      <td>...</td>\n",
       "      <td>skrn</td>\n",
       "      <td>28891.0</td>\n",
       "      <td>\\n           \\n         \\n           \\n       ...</td>\n",
       "      <td>7.0</td>\n",
       "      <td>{'Overall': '7', 'Story': '7', 'Animation': '9...</td>\n",
       "      <td>https://myanimelist.net/reviews.php?id=253664</td>\n",
       "      <td>NaN</td>\n",
       "      <td>NaN</td>\n",
       "      <td>['918', '2904', '11741', '17074', '23273', '32...</td>\n",
       "      <td>https://myanimelist.net/profile/skrn</td>\n",
       "    </tr>\n",
       "  </tbody>\n",
       "</table>\n",
       "<p>5 rows × 23 columns</p>\n",
       "</div>"
      ],
      "text/plain": [
       "   uid_x                    title  \\\n",
       "0  28891  Haikyuu!! Second Season   \n",
       "1  28891  Haikyuu!! Second Season   \n",
       "2  28891  Haikyuu!! Second Season   \n",
       "3  28891  Haikyuu!! Second Season   \n",
       "4  28891  Haikyuu!! Second Season   \n",
       "\n",
       "                                            synopsis  \\\n",
       "0  Following their participation at the Inter-Hig...   \n",
       "1  Following their participation at the Inter-Hig...   \n",
       "2  Following their participation at the Inter-Hig...   \n",
       "3  Following their participation at the Inter-Hig...   \n",
       "4  Following their participation at the Inter-Hig...   \n",
       "\n",
       "                                               genre  \\\n",
       "0  ['Comedy', 'Sports', 'Drama', 'School', 'Shoun...   \n",
       "1  ['Comedy', 'Sports', 'Drama', 'School', 'Shoun...   \n",
       "2  ['Comedy', 'Sports', 'Drama', 'School', 'Shoun...   \n",
       "3  ['Comedy', 'Sports', 'Drama', 'School', 'Shoun...   \n",
       "4  ['Comedy', 'Sports', 'Drama', 'School', 'Shoun...   \n",
       "\n",
       "                         aired  episodes  members  popularity  ranked  \\\n",
       "0  Oct 4, 2015 to Mar 27, 2016      25.0   489888         141    25.0   \n",
       "1  Oct 4, 2015 to Mar 27, 2016      25.0   489888         141    25.0   \n",
       "2  Oct 4, 2015 to Mar 27, 2016      25.0   489888         141    25.0   \n",
       "3  Oct 4, 2015 to Mar 27, 2016      25.0   489888         141    25.0   \n",
       "4  Oct 4, 2015 to Mar 27, 2016      25.0   489888         141    25.0   \n",
       "\n",
       "   score_x  ... profile anime_uid  \\\n",
       "0     8.82  ...    skrn   28891.0   \n",
       "1     8.82  ...    skrn   28891.0   \n",
       "2     8.82  ...    skrn   28891.0   \n",
       "3     8.82  ...    skrn   28891.0   \n",
       "4     8.82  ...    skrn   28891.0   \n",
       "\n",
       "                                                text score_y  \\\n",
       "0  \\n           \\n         \\n           \\n       ...     7.0   \n",
       "1  \\n           \\n         \\n           \\n       ...     7.0   \n",
       "2  \\n           \\n         \\n           \\n       ...     7.0   \n",
       "3  \\n           \\n         \\n           \\n       ...     7.0   \n",
       "4  \\n           \\n         \\n           \\n       ...     7.0   \n",
       "\n",
       "                                              scores  \\\n",
       "0  {'Overall': '7', 'Story': '7', 'Animation': '9...   \n",
       "1  {'Overall': '7', 'Story': '7', 'Animation': '9...   \n",
       "2  {'Overall': '7', 'Story': '7', 'Animation': '9...   \n",
       "3  {'Overall': '7', 'Story': '7', 'Animation': '9...   \n",
       "4  {'Overall': '7', 'Story': '7', 'Animation': '9...   \n",
       "\n",
       "                                          link_y  gender birthday  \\\n",
       "0  https://myanimelist.net/reviews.php?id=253664     NaN      NaN   \n",
       "1  https://myanimelist.net/reviews.php?id=253664     NaN      NaN   \n",
       "2  https://myanimelist.net/reviews.php?id=253664     NaN      NaN   \n",
       "3  https://myanimelist.net/reviews.php?id=253664     NaN      NaN   \n",
       "4  https://myanimelist.net/reviews.php?id=253664     NaN      NaN   \n",
       "\n",
       "                                     favorites_anime  \\\n",
       "0  ['918', '2904', '11741', '17074', '23273', '32...   \n",
       "1  ['918', '2904', '11741', '17074', '23273', '32...   \n",
       "2  ['918', '2904', '11741', '17074', '23273', '32...   \n",
       "3  ['918', '2904', '11741', '17074', '23273', '32...   \n",
       "4  ['918', '2904', '11741', '17074', '23273', '32...   \n",
       "\n",
       "                                   link  \n",
       "0  https://myanimelist.net/profile/skrn  \n",
       "1  https://myanimelist.net/profile/skrn  \n",
       "2  https://myanimelist.net/profile/skrn  \n",
       "3  https://myanimelist.net/profile/skrn  \n",
       "4  https://myanimelist.net/profile/skrn  \n",
       "\n",
       "[5 rows x 23 columns]"
      ]
     },
     "execution_count": 154,
     "metadata": {},
     "output_type": "execute_result"
    }
   ],
   "source": [
    "myanimelist_df.head()"
   ]
  },
  {
   "cell_type": "code",
   "execution_count": 24,
   "metadata": {},
   "outputs": [],
   "source": [
    "# Save to csv\n",
    "myanimelist_df.to_csv('data/myanimelist_data.csv', index=False)"
   ]
  },
  {
   "cell_type": "markdown",
   "metadata": {},
   "source": [
    "### Checking matching values on additional MyAnimeList dataset"
   ]
  },
  {
   "cell_type": "code",
   "execution_count": 34,
   "metadata": {},
   "outputs": [
    {
     "name": "stdout",
     "output_type": "stream",
     "text": [
      "<class 'pandas.core.frame.DataFrame'>\n",
      "RangeIndex: 10000 entries, 0 to 9999\n",
      "Data columns (total 5 columns):\n",
      " #   Column           Non-Null Count  Dtype  \n",
      "---  ------           --------------  -----  \n",
      " 0   Anime_Name       10000 non-null  object \n",
      " 1   Anime_Episodes   10000 non-null  object \n",
      " 2   Anime_Air_Years  10000 non-null  object \n",
      " 3   Anime_Rating     10000 non-null  float64\n",
      " 4   Synopsis         10000 non-null  object \n",
      "dtypes: float64(1), object(4)\n",
      "memory usage: 390.8+ KB\n"
     ]
    }
   ],
   "source": [
    "top_anime_df = pd.read_csv('data/Anime_Top10000.csv')\n",
    "top_anime_df.info()"
   ]
  },
  {
   "cell_type": "code",
   "execution_count": 35,
   "metadata": {},
   "outputs": [
    {
     "name": "stdout",
     "output_type": "stream",
     "text": [
      "Number of matching records: 9342\n"
     ]
    }
   ],
   "source": [
    "matches = top_anime_df['Anime_Name'].isin(myanimelist_df['title'])\n",
    "\n",
    "# Count the number of matching records\n",
    "num_matching_records = matches.sum()\n",
    "\n",
    "print(f\"Number of matching records: {num_matching_records}\")\n"
   ]
  },
  {
   "cell_type": "markdown",
   "metadata": {},
   "source": [
    "### Identify matching columns from both MyAnimeList datasets"
   ]
  },
  {
   "cell_type": "code",
   "execution_count": 36,
   "metadata": {},
   "outputs": [],
   "source": [
    "import re\n",
    "\n",
    "def extract_number_to_float(s):\n",
    "    # Use regular expression to find numbers in the string\n",
    "    matches = re.findall(r'\\d+', str(s))\n",
    "    if matches:\n",
    "        # Convert the first found number to float\n",
    "        return float(matches[0])\n",
    "    else:\n",
    "        # Return NaN if no number is found\n",
    "        return float('nan')\n",
    "\n",
    "# Apply the function to the entire column\n",
    "top_anime_df['Anime_Episodes'] = top_anime_df['Anime_Episodes'].apply(extract_number_to_float)"
   ]
  },
  {
   "cell_type": "code",
   "execution_count": 37,
   "metadata": {},
   "outputs": [
    {
     "name": "stdout",
     "output_type": "stream",
     "text": [
      "<class 'pandas.core.frame.DataFrame'>\n",
      "RangeIndex: 10000 entries, 0 to 9999\n",
      "Data columns (total 5 columns):\n",
      " #   Column           Non-Null Count  Dtype  \n",
      "---  ------           --------------  -----  \n",
      " 0   Anime_Name       10000 non-null  object \n",
      " 1   Anime_Episodes   9950 non-null   float64\n",
      " 2   Anime_Air_Years  10000 non-null  object \n",
      " 3   Anime_Rating     10000 non-null  float64\n",
      " 4   Synopsis         10000 non-null  object \n",
      "dtypes: float64(2), object(3)\n",
      "memory usage: 390.8+ KB\n"
     ]
    }
   ],
   "source": [
    "top_anime_df.info()"
   ]
  },
  {
   "cell_type": "markdown",
   "metadata": {},
   "source": [
    "### Merging MyAnimeList datasets"
   ]
  },
  {
   "cell_type": "code",
   "execution_count": 38,
   "metadata": {},
   "outputs": [],
   "source": [
    "top_anime_columns = ['Anime_Name', 'Anime_Episodes', 'Anime_Air_Years', 'Anime_Rating', 'Synopsis']\n",
    "myanimelist_columns = ['title', 'episodes', 'aired', 'score_x', 'synopsis']\n",
    "\n",
    "# Merge data\n",
    "merged_animes_df = top_anime_df.merge(myanimelist_df, left_on=top_anime_columns, right_on=myanimelist_columns, how='outer', indicator=True)\n",
    "\n",
    "# Filter out non-matching records from top_anime_df\n",
    "non_matching_top_anime = merged_animes_df[merged_animes_df['_merge'] == 'left_only']\n"
   ]
  },
  {
   "cell_type": "code",
   "execution_count": 39,
   "metadata": {},
   "outputs": [],
   "source": [
    "# Keep only columns from top_anime_df\n",
    "non_matching_top_anime = non_matching_top_anime[top_anime_df.columns]\n",
    "\n",
    "# Concatenate with myanimelist_df\n",
    "anime_master_df = pd.concat([myanimelist_df, non_matching_top_anime], ignore_index=True)"
   ]
  },
  {
   "cell_type": "markdown",
   "metadata": {},
   "source": [
    "### Combining identical columns"
   ]
  },
  {
   "cell_type": "code",
   "execution_count": 40,
   "metadata": {},
   "outputs": [],
   "source": [
    "anime_master_df['title_master'] = anime_master_df['title'].combine_first(anime_master_df['Anime_Name'])\n",
    "anime_master_df['synopsis_master'] = anime_master_df['synopsis'].combine_first(anime_master_df['Synopsis'])\n",
    "anime_master_df['num_episodes'] = anime_master_df['episodes'].combine_first(anime_master_df['Anime_Episodes'])\n",
    "anime_master_df['air_date'] = anime_master_df['aired'].combine_first(anime_master_df['Anime_Air_Years'])\n",
    "anime_master_df['ratings'] = anime_master_df['score_x'].combine_first(anime_master_df['Anime_Rating'])\n"
   ]
  },
  {
   "cell_type": "markdown",
   "metadata": {},
   "source": [
    "### Dropping unnecessary and duplicate columns"
   ]
  },
  {
   "cell_type": "code",
   "execution_count": 41,
   "metadata": {},
   "outputs": [],
   "source": [
    "cleaned_anime_df = anime_master_df.drop(['Anime_Name', 'Anime_Episodes', \n",
    "                      'Anime_Air_Years', 'Anime_Rating',\n",
    "                      'title', 'score_x', 'aired', 'link_y', 'link_x', \n",
    "                      'link', 'members', 'uid_y', 'uid_x', 'Synopsis', \n",
    "                      'score_y', 'anime_uid', 'ranked'], axis=1)\n"
   ]
  },
  {
   "cell_type": "code",
   "execution_count": 42,
   "metadata": {},
   "outputs": [
    {
     "name": "stdout",
     "output_type": "stream",
     "text": [
      "<class 'pandas.core.frame.DataFrame'>\n",
      "RangeIndex: 830627 entries, 0 to 830626\n",
      "Data columns (total 16 columns):\n",
      " #   Column           Non-Null Count   Dtype  \n",
      "---  ------           --------------   -----  \n",
      " 0   synopsis         817619 non-null  object \n",
      " 1   genre            820627 non-null  object \n",
      " 2   episodes         814581 non-null  float64\n",
      " 3   popularity       820627 non-null  float64\n",
      " 4   img_url          820349 non-null  object \n",
      " 5   profile          811636 non-null  object \n",
      " 6   text             811636 non-null  object \n",
      " 7   scores           811636 non-null  object \n",
      " 8   gender           600087 non-null  object \n",
      " 9   birthday         523667 non-null  object \n",
      " 10  favorites_anime  811636 non-null  object \n",
      " 11  title_master     830627 non-null  object \n",
      " 12  synopsis_master  827619 non-null  object \n",
      " 13  num_episodes     824531 non-null  float64\n",
      " 14  air_date         830627 non-null  object \n",
      " 15  ratings          830048 non-null  float64\n",
      "dtypes: float64(4), object(12)\n",
      "memory usage: 101.4+ MB\n"
     ]
    }
   ],
   "source": [
    "cleaned_anime_df.info()"
   ]
  },
  {
   "cell_type": "code",
   "execution_count": 43,
   "metadata": {},
   "outputs": [],
   "source": [
    "cleaned_anime_df.to_csv('data/anime_master_data.csv', index=False)"
   ]
  },
  {
   "cell_type": "markdown",
   "metadata": {},
   "source": [
    "### Checking matching values on additional IMDb dataset"
   ]
  },
  {
   "cell_type": "code",
   "execution_count": 44,
   "metadata": {},
   "outputs": [],
   "source": [
    "imdb_anime_df = pd.read_csv('data/imdb_anime.csv')"
   ]
  },
  {
   "cell_type": "code",
   "execution_count": 45,
   "metadata": {},
   "outputs": [
    {
     "name": "stdout",
     "output_type": "stream",
     "text": [
      "Are there any matching titles? True\n",
      "Matching titles: 0                              One Piece\n",
      "4                         Jujutsu Kaisen\n",
      "8                                 Bleach\n",
      "14                                Naruto\n",
      "16                          Vinland Saga\n",
      "                      ...               \n",
      "45693                       Juuni Taisen\n",
      "45694                     Mob Psycho 100\n",
      "45702    Boruto: Naruto Next Generations\n",
      "45714                          One Piece\n",
      "45715                      Marmalade Boy\n",
      "Name: Title, Length: 18958, dtype: object\n"
     ]
    }
   ],
   "source": [
    "matches = imdb_anime_df['Title'].isin(cleaned_anime_df['title_master'])\n",
    "exists = matches.any()\n",
    "\n",
    "print(f\"Are there any matching titles? {exists}\")\n",
    "if exists:\n",
    "    print(\"Matching titles:\", imdb_anime_df['Title'][matches])\n"
   ]
  },
  {
   "cell_type": "code",
   "execution_count": 46,
   "metadata": {},
   "outputs": [
    {
     "name": "stdout",
     "output_type": "stream",
     "text": [
      "Number of matching titles: 18958\n"
     ]
    }
   ],
   "source": [
    "# Find matching titles\n",
    "matches = imdb_anime_df['Title'].isin(cleaned_anime_df['title_master'])\n",
    "\n",
    "# Count the number of matching records\n",
    "num_matching_titles = matches.sum()\n",
    "\n",
    "print(f\"Number of matching titles: {num_matching_titles}\")"
   ]
  },
  {
   "cell_type": "markdown",
   "metadata": {},
   "source": [
    "### Identifying non-matching values between IMDb & MyAnimeList datasets"
   ]
  },
  {
   "cell_type": "code",
   "execution_count": 47,
   "metadata": {},
   "outputs": [
    {
     "name": "stdout",
     "output_type": "stream",
     "text": [
      "<class 'pandas.core.frame.DataFrame'>\n",
      "Int64Index: 26759 entries, 1 to 45716\n",
      "Data columns (total 13 columns):\n",
      " #   Column           Non-Null Count  Dtype \n",
      "---  ------           --------------  ----- \n",
      " 0   Title            26759 non-null  object\n",
      " 1   Genre            26759 non-null  object\n",
      " 2   User Rating      15438 non-null  object\n",
      " 3   Number of Votes  15438 non-null  object\n",
      " 4   Runtime          20922 non-null  object\n",
      " 5   Year             26640 non-null  object\n",
      " 6   Summary          14815 non-null  object\n",
      " 7   Stars            6844 non-null   object\n",
      " 8   Certificate      13946 non-null  object\n",
      " 9   Metascore        300 non-null    object\n",
      " 10  Gross            15438 non-null  object\n",
      " 11  Episode          26759 non-null  object\n",
      " 12  Episode Title    18300 non-null  object\n",
      "dtypes: object(13)\n",
      "memory usage: 2.9+ MB\n"
     ]
    }
   ],
   "source": [
    "non_matches = imdb_anime_df[~imdb_anime_df['Title'].isin(cleaned_anime_df['title_master'])]\n",
    "non_matches.info()"
   ]
  },
  {
   "cell_type": "markdown",
   "metadata": {},
   "source": [
    "### API Pull Request to Identify True Anime Records in Remaining IMDb dataset"
   ]
  },
  {
   "cell_type": "code",
   "execution_count": 48,
   "metadata": {},
   "outputs": [
    {
     "name": "stderr",
     "output_type": "stream",
     "text": [
      "<ipython-input-48-9e811b71688d>:19: SettingWithCopyWarning: \n",
      "A value is trying to be set on a copy of a slice from a DataFrame.\n",
      "Try using .loc[row_indexer,col_indexer] = value instead\n",
      "\n",
      "See the caveats in the documentation: https://pandas.pydata.org/pandas-docs/stable/user_guide/indexing.html#returning-a-view-versus-a-copy\n",
      "  non_matches['is_anime'] = non_matches['Title'].apply(lambda x: is_anime(x, api_key))\n"
     ]
    }
   ],
   "source": [
    "def is_anime(title, api_key):\n",
    "    url = 'https://api.myanimelist.net/v2/anime'\n",
    "    headers = {'Authorization': f'Bearer {api_key}'}\n",
    "    params = {'q': title, 'limit': 1}\n",
    "\n",
    "    try:\n",
    "        response = requests.get(url, headers=headers, params=params)\n",
    "        if response.status_code == 200:\n",
    "            return True\n",
    "        else:\n",
    "            return None\n",
    "    except Exception as e:\n",
    "        print(f\"Error occurred while fetching data for {title}: {e}\")\n",
    "        return None\n",
    "\n",
    "api_key = '8547440239b36521577596c71a7c7be4'\n",
    "\n",
    "# Iterate over each title in the DataFrame and check if it's an anime\n",
    "non_matches['is_anime'] = non_matches['Title'].apply(lambda x: is_anime(x, api_key))\n",
    "\n",
    "# Pause between requests to adhere to rate limits\n",
    "time.sleep(1)\n",
    "\n",
    "# Filtering to find titles identified as anime\n",
    "anime_titles_df = non_matches[non_matches['is_anime'] == True]\n"
   ]
  },
  {
   "cell_type": "code",
   "execution_count": 50,
   "metadata": {},
   "outputs": [
    {
     "name": "stdout",
     "output_type": "stream",
     "text": [
      "<class 'pandas.core.frame.DataFrame'>\n",
      "Int64Index: 0 entries\n",
      "Data columns (total 14 columns):\n",
      " #   Column           Non-Null Count  Dtype \n",
      "---  ------           --------------  ----- \n",
      " 0   Title            0 non-null      object\n",
      " 1   Genre            0 non-null      object\n",
      " 2   User Rating      0 non-null      object\n",
      " 3   Number of Votes  0 non-null      object\n",
      " 4   Runtime          0 non-null      object\n",
      " 5   Year             0 non-null      object\n",
      " 6   Summary          0 non-null      object\n",
      " 7   Stars            0 non-null      object\n",
      " 8   Certificate      0 non-null      object\n",
      " 9   Metascore        0 non-null      object\n",
      " 10  Gross            0 non-null      object\n",
      " 11  Episode          0 non-null      object\n",
      " 12  Episode Title    0 non-null      object\n",
      " 13  is_anime         0 non-null      object\n",
      "dtypes: object(14)\n",
      "memory usage: 0.0+ bytes\n"
     ]
    }
   ],
   "source": [
    "anime_titles_df.info()"
   ]
  },
  {
   "cell_type": "markdown",
   "metadata": {},
   "source": [
    "#### Unable to confirm the remaining 26k+ records in IMDb as Anime. Therefore, will continue with the combine TMDB & MyAnimeList datasets for our master dataset."
   ]
  },
  {
   "cell_type": "code",
   "execution_count": null,
   "metadata": {},
   "outputs": [],
   "source": []
  }
 ],
 "metadata": {
  "kernelspec": {
   "display_name": "learn-env",
   "language": "python",
   "name": "python3"
  },
  "language_info": {
   "codemirror_mode": {
    "name": "ipython",
    "version": 3
   },
   "file_extension": ".py",
   "mimetype": "text/x-python",
   "name": "python",
   "nbconvert_exporter": "python",
   "pygments_lexer": "ipython3",
   "version": "3.8.5"
  }
 },
 "nbformat": 4,
 "nbformat_minor": 2
}
