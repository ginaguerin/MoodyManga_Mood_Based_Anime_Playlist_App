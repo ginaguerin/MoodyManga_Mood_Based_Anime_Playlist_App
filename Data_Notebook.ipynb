{
 "cells": [
  {
   "cell_type": "code",
   "execution_count": 1,
   "metadata": {},
   "outputs": [],
   "source": [
    "import requests\n",
    "import pandas as pd\n",
    "import time\n",
    "import json\n",
    "import zipfile\n",
    "import os\n",
    "import re\n",
    "import ast\n",
    "\n",
    "\n",
    "import warnings\n",
    "warnings.filterwarnings('ignore')\n"
   ]
  },
  {
   "cell_type": "markdown",
   "metadata": {},
   "source": [
    "### TMDB API Pull with Anime Keyword"
   ]
  },
  {
   "cell_type": "code",
   "execution_count": 89,
   "metadata": {},
   "outputs": [
    {
     "name": "stdout",
     "output_type": "stream",
     "text": [
      "No anime information found\n"
     ]
    }
   ],
   "source": [
    "def get_anime_info(api_key, keyword_id, genre_id, start_page=1, end_page=5000):\n",
    "    all_anime = []\n",
    "    for page in range(start_page, end_page + 1):\n",
    "        url = \"https://api.themoviedb.org/3/discover/tv\"\n",
    "        params = {\n",
    "            'api_key': api_key,\n",
    "            'with_genres': genre_id,\n",
    "            'with_keywords': keyword_id,\n",
    "            'language': 'en-US',\n",
    "            'sort_by': 'popularity.desc',\n",
    "            'page': page\n",
    "        }\n",
    "        response = requests.get(url, params=params)\n",
    "        if response.status_code == 200:\n",
    "            all_anime.extend(response.json().get('results', []))\n",
    "            if page % 50 == 0:\n",
    "                pd.DataFrame(all_anime).to_csv(f'anime_data_{page}.csv')\n",
    "                all_anime = []\n",
    "        else:\n",
    "            break\n",
    "        time.sleep(0.5)\n",
    "    return all_anime\n",
    "\n",
    "api_key = '2c818416a26da0b84f6a14364b6aa0eb'\n",
    "\n",
    "# Get the keyword ID for 'anime'\n",
    "anime_keyword_id = get_keyword_id(api_key, 'anime')\n",
    "\n",
    "# Animation genre ID (also used for anime)\n",
    "genre_id = 16\n",
    "\n",
    "if anime_keyword_id:\n",
    "    anime_info = get_anime_info(api_key, anime_keyword_id, genre_id, start_page=1, end_page=5000)\n",
    "    if anime_info:\n",
    "        df_anime = pd.DataFrame(anime_info)\n",
    "        df_anime.to_csv('final_anime_data.csv')\n",
    "        print(\"Data fetching complete.\")\n",
    "    else:\n",
    "        print(\"No anime information found\")\n",
    "else:\n",
    "    print(\"Anime keyword ID not found\")\n"
   ]
  },
  {
   "cell_type": "code",
   "execution_count": 5,
   "metadata": {},
   "outputs": [
    {
     "name": "stdout",
     "output_type": "stream",
     "text": [
      "<class 'pandas.core.frame.DataFrame'>\n",
      "RangeIndex: 271 entries, 0 to 270\n",
      "Data columns (total 14 columns):\n",
      " #   Column             Non-Null Count  Dtype  \n",
      "---  ------             --------------  -----  \n",
      " 0   Unnamed: 0         271 non-null    int64  \n",
      " 1   backdrop_path      151 non-null    object \n",
      " 2   genre_ids          271 non-null    object \n",
      " 3   id                 271 non-null    int64  \n",
      " 4   name               271 non-null    object \n",
      " 5   origin_country     271 non-null    object \n",
      " 6   original_language  271 non-null    object \n",
      " 7   original_name      271 non-null    object \n",
      " 8   overview           220 non-null    object \n",
      " 9   popularity         271 non-null    float64\n",
      " 10  poster_path        254 non-null    object \n",
      " 11  vote_average       271 non-null    float64\n",
      " 12  vote_count         271 non-null    int64  \n",
      " 13  first_air_date     179 non-null    object \n",
      "dtypes: float64(2), int64(3), object(9)\n",
      "memory usage: 29.8+ KB\n"
     ]
    }
   ],
   "source": [
    "df_anime = pd.read_csv('zipped_data/anime_data_tmdb.csv')\n",
    "df_anime.info()"
   ]
  },
  {
   "cell_type": "code",
   "execution_count": 6,
   "metadata": {},
   "outputs": [
    {
     "name": "stdout",
     "output_type": "stream",
     "text": [
      "<class 'pandas.core.frame.DataFrame'>\n",
      "RangeIndex: 1000 entries, 0 to 999\n",
      "Data columns (total 14 columns):\n",
      " #   Column             Non-Null Count  Dtype  \n",
      "---  ------             --------------  -----  \n",
      " 0   Unnamed: 0         1000 non-null   int64  \n",
      " 1   backdrop_path      983 non-null    object \n",
      " 2   first_air_date     999 non-null    object \n",
      " 3   genre_ids          1000 non-null   object \n",
      " 4   id                 1000 non-null   int64  \n",
      " 5   name               1000 non-null   object \n",
      " 6   origin_country     1000 non-null   object \n",
      " 7   original_language  1000 non-null   object \n",
      " 8   original_name      1000 non-null   object \n",
      " 9   overview           981 non-null    object \n",
      " 10  popularity         1000 non-null   float64\n",
      " 11  poster_path        1000 non-null   object \n",
      " 12  vote_average       1000 non-null   float64\n",
      " 13  vote_count         1000 non-null   int64  \n",
      "dtypes: float64(2), int64(3), object(9)\n",
      "memory usage: 109.5+ KB\n"
     ]
    }
   ],
   "source": [
    "df_anime_1000 = pd.read_csv('zipped_data/anime_data_100.csv')\n",
    "df_anime_1000.info()"
   ]
  },
  {
   "cell_type": "code",
   "execution_count": 7,
   "metadata": {},
   "outputs": [
    {
     "name": "stdout",
     "output_type": "stream",
     "text": [
      "<class 'pandas.core.frame.DataFrame'>\n",
      "RangeIndex: 1000 entries, 0 to 999\n",
      "Data columns (total 14 columns):\n",
      " #   Column             Non-Null Count  Dtype  \n",
      "---  ------             --------------  -----  \n",
      " 0   Unnamed: 0         1000 non-null   int64  \n",
      " 1   backdrop_path      905 non-null    object \n",
      " 2   first_air_date     969 non-null    object \n",
      " 3   genre_ids          1000 non-null   object \n",
      " 4   id                 1000 non-null   int64  \n",
      " 5   name               1000 non-null   object \n",
      " 6   origin_country     1000 non-null   object \n",
      " 7   original_language  1000 non-null   object \n",
      " 8   original_name      1000 non-null   object \n",
      " 9   overview           921 non-null    object \n",
      " 10  popularity         1000 non-null   float64\n",
      " 11  poster_path        997 non-null    object \n",
      " 12  vote_average       1000 non-null   float64\n",
      " 13  vote_count         1000 non-null   int64  \n",
      "dtypes: float64(2), int64(3), object(9)\n",
      "memory usage: 109.5+ KB\n"
     ]
    }
   ],
   "source": [
    "df_anime_1500 = pd.read_csv('zipped_data/anime_data_150.csv')\n",
    "df_anime_1500.info()"
   ]
  },
  {
   "cell_type": "markdown",
   "metadata": {},
   "source": [
    "### Combining TMDB anime datasets"
   ]
  },
  {
   "cell_type": "code",
   "execution_count": 13,
   "metadata": {},
   "outputs": [],
   "source": [
    "csv_file_paths = ['zipped_data/anime_data_50.csv', 'zipped_data/anime_data_100.csv', 'zipped_data/anime_data_150.csv', 'zipped_data/anime_data_250.csv']\n",
    "\n",
    "# Read each csv file into a dataframe\n",
    "dataframes = [pd.read_csv(file_path) for file_path in csv_file_paths]\n"
   ]
  },
  {
   "cell_type": "code",
   "execution_count": 14,
   "metadata": {},
   "outputs": [],
   "source": [
    "combined_anime_tmdb = pd.concat(dataframes, ignore_index=True)"
   ]
  },
  {
   "cell_type": "code",
   "execution_count": 15,
   "metadata": {},
   "outputs": [],
   "source": [
    "# Convert list to string\n",
    "combined_anime_tmdb['genre_ids'] = combined_anime_tmdb['genre_ids'].apply(lambda x: ','.join(map(str, x)) if isinstance(x, list) else x)\n",
    "\n",
    "# Drop irrelevant columns\n",
    "combined_anime_tmdb = combined_anime_tmdb.drop(columns=['origin_country', 'backdrop_path', 'poster_path', 'Unnamed: 0'])\n",
    "\n",
    "# Remove duplicates\n",
    "combined_anime_tmdb = combined_anime_tmdb.drop_duplicates()"
   ]
  },
  {
   "cell_type": "code",
   "execution_count": 16,
   "metadata": {},
   "outputs": [
    {
     "name": "stdout",
     "output_type": "stream",
     "text": [
      "<class 'pandas.core.frame.DataFrame'>\n",
      "Int64Index: 3271 entries, 0 to 3270\n",
      "Data columns (total 10 columns):\n",
      " #   Column             Non-Null Count  Dtype  \n",
      "---  ------             --------------  -----  \n",
      " 0   first_air_date     3146 non-null   object \n",
      " 1   genre_ids          3271 non-null   object \n",
      " 2   id                 3271 non-null   int64  \n",
      " 3   name               3271 non-null   object \n",
      " 4   original_language  3271 non-null   object \n",
      " 5   original_name      3271 non-null   object \n",
      " 6   overview           3120 non-null   object \n",
      " 7   popularity         3271 non-null   float64\n",
      " 8   vote_average       3271 non-null   float64\n",
      " 9   vote_count         3271 non-null   int64  \n",
      "dtypes: float64(2), int64(2), object(6)\n",
      "memory usage: 281.1+ KB\n"
     ]
    }
   ],
   "source": [
    "combined_anime_tmdb.info()"
   ]
  },
  {
   "cell_type": "code",
   "execution_count": 17,
   "metadata": {},
   "outputs": [],
   "source": [
    "# Save to csv file\n",
    "combined_anime_tmdb.to_csv('zipped_data/anime_tmbd_master.csv', index=False)"
   ]
  },
  {
   "cell_type": "markdown",
   "metadata": {},
   "source": [
    "### Adding data from MyAnimeList\n",
    "\n",
    "- animes.csv\n",
    "- profiles.csv\n",
    "- reviews.csv"
   ]
  },
  {
   "cell_type": "code",
   "execution_count": 3,
   "metadata": {},
   "outputs": [],
   "source": [
    "zip_file_path = 'zipped_data/Archive.zip'\n",
    "\n",
    "extract_path = 'zipped_data/extracted_csv_files'\n",
    "\n",
    "if not os.path.exists(extract_path):\n",
    "    os.makedirs(extract_path)\n",
    "\n",
    "# Extract csv files\n",
    "with zipfile.ZipFile(zip_file_path, 'r') as zip_ref:\n",
    "    # Extract all csv files\n",
    "    for file_name in zip_ref.namelist():\n",
    "        if file_name.endswith('.csv'):\n",
    "            zip_ref.extract(file_name, path=extract_path)\n"
   ]
  },
  {
   "cell_type": "code",
   "execution_count": 2,
   "metadata": {},
   "outputs": [
    {
     "name": "stdout",
     "output_type": "stream",
     "text": [
      "<class 'pandas.core.frame.DataFrame'>\n",
      "RangeIndex: 19311 entries, 0 to 19310\n",
      "Data columns (total 12 columns):\n",
      " #   Column      Non-Null Count  Dtype  \n",
      "---  ------      --------------  -----  \n",
      " 0   uid         19311 non-null  int64  \n",
      " 1   title       19311 non-null  object \n",
      " 2   synopsis    18336 non-null  object \n",
      " 3   genre       19311 non-null  object \n",
      " 4   aired       19311 non-null  object \n",
      " 5   episodes    18605 non-null  float64\n",
      " 6   members     19311 non-null  int64  \n",
      " 7   popularity  19311 non-null  int64  \n",
      " 8   ranked      16099 non-null  float64\n",
      " 9   score       18732 non-null  float64\n",
      " 10  img_url     19131 non-null  object \n",
      " 11  link        19311 non-null  object \n",
      "dtypes: float64(3), int64(3), object(6)\n",
      "memory usage: 1.8+ MB\n"
     ]
    }
   ],
   "source": [
    "animes_df = pd.read_csv('zipped_data/extracted_csv_files/animes.csv')\n",
    "animes_df.info()"
   ]
  },
  {
   "cell_type": "code",
   "execution_count": 3,
   "metadata": {},
   "outputs": [
    {
     "name": "stdout",
     "output_type": "stream",
     "text": [
      "<class 'pandas.core.frame.DataFrame'>\n",
      "RangeIndex: 81727 entries, 0 to 81726\n",
      "Data columns (total 5 columns):\n",
      " #   Column           Non-Null Count  Dtype \n",
      "---  ------           --------------  ----- \n",
      " 0   profile          81727 non-null  object\n",
      " 1   gender           53856 non-null  object\n",
      " 2   birthday         46807 non-null  object\n",
      " 3   favorites_anime  81727 non-null  object\n",
      " 4   link             81727 non-null  object\n",
      "dtypes: object(5)\n",
      "memory usage: 3.1+ MB\n"
     ]
    }
   ],
   "source": [
    "profiles_df = pd.read_csv('zipped_data/extracted_csv_files/profiles.csv')\n",
    "profiles_df.info()"
   ]
  },
  {
   "cell_type": "code",
   "execution_count": 4,
   "metadata": {},
   "outputs": [
    {
     "name": "stdout",
     "output_type": "stream",
     "text": [
      "<class 'pandas.core.frame.DataFrame'>\n",
      "RangeIndex: 192136 entries, 0 to 192135\n",
      "Data columns (total 10 columns):\n",
      " #   Column      Non-Null Count   Dtype \n",
      "---  ------      --------------   ----- \n",
      " 0   uid         192134 non-null  object\n",
      " 1   profile     192122 non-null  object\n",
      " 2   anime_uid   192121 non-null  object\n",
      " 3   score       192115 non-null  object\n",
      " 4   scores      192113 non-null  object\n",
      " 5   link        192028 non-null  object\n",
      " 6   Unnamed: 6  3 non-null       object\n",
      " 7   Unnamed: 7  2 non-null       object\n",
      " 8   Unnamed: 8  1 non-null       object\n",
      " 9   Unnamed: 9  1 non-null       object\n",
      "dtypes: object(10)\n",
      "memory usage: 14.7+ MB\n"
     ]
    }
   ],
   "source": [
    "reviews_df = pd.read_csv('zipped_data/extracted_csv_files/reviews.csv')\n",
    "reviews_df.info()"
   ]
  },
  {
   "cell_type": "markdown",
   "metadata": {},
   "source": [
    "### Splitting the dictionary key-value pairs from the 'scores' column into separate columns for readability"
   ]
  },
  {
   "cell_type": "code",
   "execution_count": 5,
   "metadata": {},
   "outputs": [
    {
     "data": {
      "text/html": [
       "<div>\n",
       "<style scoped>\n",
       "    .dataframe tbody tr th:only-of-type {\n",
       "        vertical-align: middle;\n",
       "    }\n",
       "\n",
       "    .dataframe tbody tr th {\n",
       "        vertical-align: top;\n",
       "    }\n",
       "\n",
       "    .dataframe thead th {\n",
       "        text-align: right;\n",
       "    }\n",
       "</style>\n",
       "<table border=\"1\" class=\"dataframe\">\n",
       "  <thead>\n",
       "    <tr style=\"text-align: right;\">\n",
       "      <th></th>\n",
       "      <th>uid</th>\n",
       "      <th>profile</th>\n",
       "      <th>anime_uid</th>\n",
       "      <th>score</th>\n",
       "      <th>scores</th>\n",
       "      <th>link</th>\n",
       "      <th>Unnamed: 6</th>\n",
       "      <th>Unnamed: 7</th>\n",
       "      <th>Unnamed: 8</th>\n",
       "      <th>Unnamed: 9</th>\n",
       "      <th>Overall</th>\n",
       "      <th>Story</th>\n",
       "      <th>Animation</th>\n",
       "      <th>Sound</th>\n",
       "      <th>Character</th>\n",
       "      <th>Enjoyment</th>\n",
       "    </tr>\n",
       "  </thead>\n",
       "  <tbody>\n",
       "    <tr>\n",
       "      <th>0</th>\n",
       "      <td>255938</td>\n",
       "      <td>DesolatePsyche</td>\n",
       "      <td>34096</td>\n",
       "      <td>8</td>\n",
       "      <td>{'Overall': '8', 'Story': '8', 'Animation': '8...</td>\n",
       "      <td>https://myanimelist.net/reviews.php?id=255938</td>\n",
       "      <td>NaN</td>\n",
       "      <td>NaN</td>\n",
       "      <td>NaN</td>\n",
       "      <td>NaN</td>\n",
       "      <td>8</td>\n",
       "      <td>8</td>\n",
       "      <td>8</td>\n",
       "      <td>10</td>\n",
       "      <td>9</td>\n",
       "      <td>8</td>\n",
       "    </tr>\n",
       "    <tr>\n",
       "      <th>1</th>\n",
       "      <td>259117</td>\n",
       "      <td>baekbeans</td>\n",
       "      <td>34599</td>\n",
       "      <td>10</td>\n",
       "      <td>{'Overall': '10', 'Story': '10', 'Animation': ...</td>\n",
       "      <td>https://myanimelist.net/reviews.php?id=259117</td>\n",
       "      <td>NaN</td>\n",
       "      <td>NaN</td>\n",
       "      <td>NaN</td>\n",
       "      <td>NaN</td>\n",
       "      <td>10</td>\n",
       "      <td>10</td>\n",
       "      <td>10</td>\n",
       "      <td>10</td>\n",
       "      <td>10</td>\n",
       "      <td>10</td>\n",
       "    </tr>\n",
       "    <tr>\n",
       "      <th>2</th>\n",
       "      <td>253664</td>\n",
       "      <td>skrn</td>\n",
       "      <td>28891</td>\n",
       "      <td>7</td>\n",
       "      <td>{'Overall': '7', 'Story': '7', 'Animation': '9...</td>\n",
       "      <td>https://myanimelist.net/reviews.php?id=253664</td>\n",
       "      <td>NaN</td>\n",
       "      <td>NaN</td>\n",
       "      <td>NaN</td>\n",
       "      <td>NaN</td>\n",
       "      <td>7</td>\n",
       "      <td>7</td>\n",
       "      <td>9</td>\n",
       "      <td>8</td>\n",
       "      <td>8</td>\n",
       "      <td>8</td>\n",
       "    </tr>\n",
       "    <tr>\n",
       "      <th>3</th>\n",
       "      <td>8254</td>\n",
       "      <td>edgewalker00</td>\n",
       "      <td>2904</td>\n",
       "      <td>9</td>\n",
       "      <td>{'Overall': '9', 'Story': '9', 'Animation': '9...</td>\n",
       "      <td>https://myanimelist.net/reviews.php?id=8254</td>\n",
       "      <td>NaN</td>\n",
       "      <td>NaN</td>\n",
       "      <td>NaN</td>\n",
       "      <td>NaN</td>\n",
       "      <td>9</td>\n",
       "      <td>9</td>\n",
       "      <td>9</td>\n",
       "      <td>10</td>\n",
       "      <td>10</td>\n",
       "      <td>9</td>\n",
       "    </tr>\n",
       "    <tr>\n",
       "      <th>4</th>\n",
       "      <td>291149</td>\n",
       "      <td>aManOfCulture99</td>\n",
       "      <td>4181</td>\n",
       "      <td>10</td>\n",
       "      <td>{'Overall': '10', 'Story': '10', 'Animation': ...</td>\n",
       "      <td>https://myanimelist.net/reviews.php?id=291149</td>\n",
       "      <td>NaN</td>\n",
       "      <td>NaN</td>\n",
       "      <td>NaN</td>\n",
       "      <td>NaN</td>\n",
       "      <td>10</td>\n",
       "      <td>10</td>\n",
       "      <td>8</td>\n",
       "      <td>9</td>\n",
       "      <td>10</td>\n",
       "      <td>10</td>\n",
       "    </tr>\n",
       "  </tbody>\n",
       "</table>\n",
       "</div>"
      ],
      "text/plain": [
       "      uid          profile anime_uid score  \\\n",
       "0  255938   DesolatePsyche     34096     8   \n",
       "1  259117        baekbeans     34599    10   \n",
       "2  253664             skrn     28891     7   \n",
       "3    8254     edgewalker00      2904     9   \n",
       "4  291149  aManOfCulture99      4181    10   \n",
       "\n",
       "                                              scores  \\\n",
       "0  {'Overall': '8', 'Story': '8', 'Animation': '8...   \n",
       "1  {'Overall': '10', 'Story': '10', 'Animation': ...   \n",
       "2  {'Overall': '7', 'Story': '7', 'Animation': '9...   \n",
       "3  {'Overall': '9', 'Story': '9', 'Animation': '9...   \n",
       "4  {'Overall': '10', 'Story': '10', 'Animation': ...   \n",
       "\n",
       "                                            link Unnamed: 6 Unnamed: 7  \\\n",
       "0  https://myanimelist.net/reviews.php?id=255938        NaN        NaN   \n",
       "1  https://myanimelist.net/reviews.php?id=259117        NaN        NaN   \n",
       "2  https://myanimelist.net/reviews.php?id=253664        NaN        NaN   \n",
       "3    https://myanimelist.net/reviews.php?id=8254        NaN        NaN   \n",
       "4  https://myanimelist.net/reviews.php?id=291149        NaN        NaN   \n",
       "\n",
       "  Unnamed: 8 Unnamed: 9 Overall Story Animation Sound Character Enjoyment  \n",
       "0        NaN        NaN       8     8         8    10         9         8  \n",
       "1        NaN        NaN      10    10        10    10        10        10  \n",
       "2        NaN        NaN       7     7         9     8         8         8  \n",
       "3        NaN        NaN       9     9         9    10        10         9  \n",
       "4        NaN        NaN      10    10         8     9        10        10  "
      ]
     },
     "execution_count": 5,
     "metadata": {},
     "output_type": "execute_result"
    }
   ],
   "source": [
    "# Function to convert a string to a dictionary, return None if conversion fails\n",
    "def safe_literal_eval(s):\n",
    "    try:\n",
    "        return ast.literal_eval(s)\n",
    "    except:\n",
    "        return None\n",
    "\n",
    "# Apply function to the 'scores' column\n",
    "reviews_df['scores'] = reviews_df['scores'].apply(lambda x: safe_literal_eval(x) if pd.notnull(x) else None)\n",
    "\n",
    "# Drop rows where 'scores' is None\n",
    "reviews_df = reviews_df.dropna(subset=['scores'])\n",
    "\n",
    "# Split the 'scores' column into separate columns\n",
    "scores_df = reviews_df['scores'].apply(pd.Series)\n",
    "\n",
    "# Merge new columns back in\n",
    "combined_reviews = pd.concat([reviews_df, scores_df], axis=1)\n",
    "\n",
    "combined_reviews.head()\n"
   ]
  },
  {
   "cell_type": "code",
   "execution_count": 6,
   "metadata": {},
   "outputs": [
    {
     "data": {
      "text/plain": [
       "192107"
      ]
     },
     "execution_count": 6,
     "metadata": {},
     "output_type": "execute_result"
    }
   ],
   "source": [
    "# Drop irrelevant/duplicate columns\n",
    "columns_to_drop = ['link', 'score', 'Unnamed: 6', 'Unnamed: 7', 'Unnamed: 8', 'Unnamed: 9']\n",
    "combined_reviews = combined_reviews.drop(columns=columns_to_drop, errors='ignore')\n",
    "\n",
    "# Sanity check\n",
    "combined_reviews['Overall'].value_counts().sum()"
   ]
  },
  {
   "cell_type": "markdown",
   "metadata": {},
   "source": [
    "### Joining MyAnimeList data files"
   ]
  },
  {
   "cell_type": "code",
   "execution_count": 7,
   "metadata": {},
   "outputs": [
    {
     "name": "stdout",
     "output_type": "stream",
     "text": [
      "<class 'pandas.core.frame.DataFrame'>\n",
      "Int64Index: 588437 entries, 0 to 588436\n",
      "Data columns (total 26 columns):\n",
      " #   Column           Non-Null Count   Dtype  \n",
      "---  ------           --------------   -----  \n",
      " 0   uid_review       588437 non-null  object \n",
      " 1   profile          588437 non-null  object \n",
      " 2   anime_uid        588437 non-null  object \n",
      " 3   scores           588437 non-null  object \n",
      " 4   Overall          588437 non-null  object \n",
      " 5   Story            588437 non-null  object \n",
      " 6   Animation        588437 non-null  object \n",
      " 7   Sound            588437 non-null  object \n",
      " 8   Character        588437 non-null  object \n",
      " 9   Enjoyment        588437 non-null  object \n",
      " 10  uid_anime        588437 non-null  int64  \n",
      " 11  title            588437 non-null  object \n",
      " 12  synopsis         586629 non-null  object \n",
      " 13  genre            588437 non-null  object \n",
      " 14  aired            588437 non-null  object \n",
      " 15  episodes         583455 non-null  float64\n",
      " 16  members          588437 non-null  int64  \n",
      " 17  popularity       588437 non-null  int64  \n",
      " 18  ranked           556739 non-null  float64\n",
      " 19  score            588437 non-null  float64\n",
      " 20  img_url          588329 non-null  object \n",
      " 21  link_x           588437 non-null  object \n",
      " 22  gender           432943 non-null  object \n",
      " 23  birthday         376742 non-null  object \n",
      " 24  favorites_anime  588437 non-null  object \n",
      " 25  link_y           588437 non-null  object \n",
      "dtypes: float64(3), int64(3), object(20)\n",
      "memory usage: 121.2+ MB\n"
     ]
    }
   ],
   "source": [
    "# Merge reviews dataset with animes dataset on anime_uid\n",
    "merged_reviews_animes = pd.merge(combined_reviews, animes_df, left_on='anime_uid', right_on='uid', suffixes=('_review', '_anime'))\n",
    "\n",
    "# Merge combined dataset with the profiles dataset on profile\n",
    "myanimelist_combined = pd.merge(merged_reviews_animes, profiles_df, on='profile')\n",
    "\n",
    "myanimelist_combined.info()\n"
   ]
  },
  {
   "cell_type": "markdown",
   "metadata": {},
   "source": [
    "### Handling missing values"
   ]
  },
  {
   "cell_type": "code",
   "execution_count": 8,
   "metadata": {},
   "outputs": [
    {
     "name": "stdout",
     "output_type": "stream",
     "text": [
      "<class 'pandas.core.frame.DataFrame'>\n",
      "Int64Index: 349877 entries, 0 to 588433\n",
      "Data columns (total 26 columns):\n",
      " #   Column           Non-Null Count   Dtype  \n",
      "---  ------           --------------   -----  \n",
      " 0   uid_review       349877 non-null  object \n",
      " 1   profile          349877 non-null  object \n",
      " 2   anime_uid        349877 non-null  object \n",
      " 3   scores           349877 non-null  object \n",
      " 4   Overall          349877 non-null  object \n",
      " 5   Story            349877 non-null  object \n",
      " 6   Animation        349877 non-null  object \n",
      " 7   Sound            349877 non-null  object \n",
      " 8   Character        349877 non-null  object \n",
      " 9   Enjoyment        349877 non-null  object \n",
      " 10  uid_anime        349877 non-null  int64  \n",
      " 11  title            349877 non-null  object \n",
      " 12  synopsis         349036 non-null  object \n",
      " 13  genre            349877 non-null  object \n",
      " 14  aired            349877 non-null  object \n",
      " 15  episodes         346915 non-null  float64\n",
      " 16  members          349877 non-null  int64  \n",
      " 17  popularity       349877 non-null  int64  \n",
      " 18  ranked           333064 non-null  float64\n",
      " 19  score            349877 non-null  float64\n",
      " 20  img_url          349809 non-null  object \n",
      " 21  link_x           349877 non-null  object \n",
      " 22  gender           349877 non-null  object \n",
      " 23  birthday         349877 non-null  object \n",
      " 24  favorites_anime  349877 non-null  object \n",
      " 25  link_y           349877 non-null  object \n",
      "dtypes: float64(3), int64(3), object(20)\n",
      "memory usage: 72.1+ MB\n"
     ]
    }
   ],
   "source": [
    "# Drop null values from 'birthday' and 'gender' columns\n",
    "myanimelist_combined = myanimelist_combined.dropna(subset=['birthday', 'gender'])\n",
    "myanimelist_combined.info()"
   ]
  },
  {
   "cell_type": "code",
   "execution_count": 14,
   "metadata": {},
   "outputs": [],
   "source": [
    "# Save to csv\n",
    "myanimelist_combined.to_csv('zipped_data/myanimelist_data.csv', index=False)"
   ]
  },
  {
   "cell_type": "markdown",
   "metadata": {},
   "source": [
    "### Checking matching values on additional IMDb dataset"
   ]
  },
  {
   "cell_type": "code",
   "execution_count": 18,
   "metadata": {},
   "outputs": [],
   "source": [
    "imdb_anime_df = pd.read_csv('zipped_data/imdb_anime.csv')"
   ]
  },
  {
   "cell_type": "code",
   "execution_count": 19,
   "metadata": {},
   "outputs": [
    {
     "name": "stdout",
     "output_type": "stream",
     "text": [
      "Are there any matching titles? True\n",
      "Matching titles: 0                              One Piece\n",
      "8                                 Bleach\n",
      "14                                Naruto\n",
      "16                          Vinland Saga\n",
      "20                       Hunter x Hunter\n",
      "                      ...               \n",
      "45669                     Mob Psycho 100\n",
      "45692                          RobiHachi\n",
      "45694                     Mob Psycho 100\n",
      "45702    Boruto: Naruto Next Generations\n",
      "45714                          One Piece\n",
      "Name: Title, Length: 7479, dtype: object\n"
     ]
    }
   ],
   "source": [
    "matches = imdb_anime_df['Title'].isin(myanimelist_combined['title'])\n",
    "exists = matches.any()\n",
    "\n",
    "print(f\"Are there any matching titles? {exists}\")\n",
    "if exists:\n",
    "    print(\"Matching titles:\", imdb_anime_df['Title'][matches])\n"
   ]
  },
  {
   "cell_type": "code",
   "execution_count": 20,
   "metadata": {},
   "outputs": [
    {
     "name": "stdout",
     "output_type": "stream",
     "text": [
      "Number of matching titles: 0\n"
     ]
    }
   ],
   "source": [
    "# Find matching titles\n",
    "matches = imdb_anime_df['Title'].isin(['title'])\n",
    "\n",
    "# Count the number of matching records\n",
    "num_matching_titles = matches.sum()\n",
    "\n",
    "print(f\"Number of matching titles: {num_matching_titles}\")"
   ]
  },
  {
   "cell_type": "markdown",
   "metadata": {},
   "source": [
    "### Identifying non-matching values between IMDb & MyAnimeList datasets"
   ]
  },
  {
   "cell_type": "code",
   "execution_count": 22,
   "metadata": {},
   "outputs": [
    {
     "name": "stdout",
     "output_type": "stream",
     "text": [
      "<class 'pandas.core.frame.DataFrame'>\n",
      "Int64Index: 38238 entries, 1 to 45716\n",
      "Data columns (total 13 columns):\n",
      " #   Column           Non-Null Count  Dtype \n",
      "---  ------           --------------  ----- \n",
      " 0   Title            38238 non-null  object\n",
      " 1   Genre            38238 non-null  object\n",
      " 2   User Rating      18878 non-null  object\n",
      " 3   Number of Votes  18878 non-null  object\n",
      " 4   Runtime          26701 non-null  object\n",
      " 5   Year             38113 non-null  object\n",
      " 6   Summary          17616 non-null  object\n",
      " 7   Stars            11046 non-null  object\n",
      " 8   Certificate      22411 non-null  object\n",
      " 9   Metascore        314 non-null    object\n",
      " 10  Gross            18878 non-null  object\n",
      " 11  Episode          38238 non-null  object\n",
      " 12  Episode Title    28335 non-null  object\n",
      "dtypes: object(13)\n",
      "memory usage: 4.1+ MB\n"
     ]
    }
   ],
   "source": [
    "non_matches = imdb_anime_df[~imdb_anime_df['Title'].isin(myanimelist_combined['title'])]\n",
    "non_matches.info()"
   ]
  },
  {
   "cell_type": "markdown",
   "metadata": {},
   "source": [
    "### API Pull Request to Identify True Anime Records in Remaining IMDb dataset"
   ]
  },
  {
   "cell_type": "code",
   "execution_count": 48,
   "metadata": {},
   "outputs": [
    {
     "name": "stderr",
     "output_type": "stream",
     "text": [
      "<ipython-input-48-9e811b71688d>:19: SettingWithCopyWarning: \n",
      "A value is trying to be set on a copy of a slice from a DataFrame.\n",
      "Try using .loc[row_indexer,col_indexer] = value instead\n",
      "\n",
      "See the caveats in the documentation: https://pandas.pydata.org/pandas-docs/stable/user_guide/indexing.html#returning-a-view-versus-a-copy\n",
      "  non_matches['is_anime'] = non_matches['Title'].apply(lambda x: is_anime(x, api_key))\n"
     ]
    }
   ],
   "source": [
    "def is_anime(title, api_key):\n",
    "    url = 'https://api.myanimelist.net/v2/anime'\n",
    "    headers = {'Authorization': f'Bearer {api_key}'}\n",
    "    params = {'q': title, 'limit': 1}\n",
    "\n",
    "    try:\n",
    "        response = requests.get(url, headers=headers, params=params)\n",
    "        if response.status_code == 200:\n",
    "            return True\n",
    "        else:\n",
    "            return None\n",
    "    except Exception as e:\n",
    "        print(f\"Error occurred while fetching data for {title}: {e}\")\n",
    "        return None\n",
    "\n",
    "api_key = '8547440239b36521577596c71a7c7be4'\n",
    "\n",
    "# Iterate over each title in the DataFrame and check if it's an anime\n",
    "non_matches['is_anime'] = non_matches['Title'].apply(lambda x: is_anime(x, api_key))\n",
    "\n",
    "# Pause between requests to adhere to rate limits\n",
    "time.sleep(1)\n",
    "\n",
    "# Filtering to find titles identified as anime\n",
    "anime_titles_df = non_matches[non_matches['is_anime'] == True]\n"
   ]
  },
  {
   "cell_type": "code",
   "execution_count": 50,
   "metadata": {},
   "outputs": [
    {
     "name": "stdout",
     "output_type": "stream",
     "text": [
      "<class 'pandas.core.frame.DataFrame'>\n",
      "Int64Index: 0 entries\n",
      "Data columns (total 14 columns):\n",
      " #   Column           Non-Null Count  Dtype \n",
      "---  ------           --------------  ----- \n",
      " 0   Title            0 non-null      object\n",
      " 1   Genre            0 non-null      object\n",
      " 2   User Rating      0 non-null      object\n",
      " 3   Number of Votes  0 non-null      object\n",
      " 4   Runtime          0 non-null      object\n",
      " 5   Year             0 non-null      object\n",
      " 6   Summary          0 non-null      object\n",
      " 7   Stars            0 non-null      object\n",
      " 8   Certificate      0 non-null      object\n",
      " 9   Metascore        0 non-null      object\n",
      " 10  Gross            0 non-null      object\n",
      " 11  Episode          0 non-null      object\n",
      " 12  Episode Title    0 non-null      object\n",
      " 13  is_anime         0 non-null      object\n",
      "dtypes: object(14)\n",
      "memory usage: 0.0+ bytes\n"
     ]
    }
   ],
   "source": [
    "anime_titles_df.info()"
   ]
  },
  {
   "cell_type": "markdown",
   "metadata": {},
   "source": [
    "#### Unable to confirm the remaining 26k+ records in IMDb as Anime. Therefore, will continue with the combined MyAnimeList datasets for our master dataset."
   ]
  },
  {
   "cell_type": "markdown",
   "metadata": {},
   "source": [
    "### Creating Master Dataset"
   ]
  },
  {
   "cell_type": "code",
   "execution_count": 47,
   "metadata": {},
   "outputs": [],
   "source": [
    "# Save to csv\n",
    "master_data = myanimelist_combined\n",
    "master_data.to_csv('zipped_data/master_anime_data.csv', index=False)"
   ]
  }
 ],
 "metadata": {
  "kernelspec": {
   "display_name": "learn-env",
   "language": "python",
   "name": "python3"
  },
  "language_info": {
   "codemirror_mode": {
    "name": "ipython",
    "version": 3
   },
   "file_extension": ".py",
   "mimetype": "text/x-python",
   "name": "python",
   "nbconvert_exporter": "python",
   "pygments_lexer": "ipython3",
   "version": "3.11.4"
  }
 },
 "nbformat": 4,
 "nbformat_minor": 2
}
